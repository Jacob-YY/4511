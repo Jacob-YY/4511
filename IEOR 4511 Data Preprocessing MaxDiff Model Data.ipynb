{
 "cells": [
  {
   "cell_type": "code",
   "execution_count": 1,
   "id": "3cbbf064",
   "metadata": {},
   "outputs": [],
   "source": [
    "import pandas as pd\n",
    "import numpy as np"
   ]
  },
  {
   "cell_type": "code",
   "execution_count": 1,
   "id": "9d771e30-4e82-4c7e-a24e-5c6967efed01",
   "metadata": {},
   "outputs": [
    {
     "name": "stdout",
     "output_type": "stream",
     "text": [
      "Requirement already satisfied: opencv-contrib-python in c:\\users\\yany3\\anaconda3\\lib\\site-packages (4.8.1.78)\n",
      "Requirement already satisfied: numpy>=1.21.2 in c:\\users\\yany3\\anaconda3\\lib\\site-packages (from opencv-contrib-python) (1.26.2)\n"
     ]
    }
   ],
   "source": [
    "!pip install opencv-contrib-python"
   ]
  },
  {
   "cell_type": "code",
   "execution_count": 3,
   "id": "12afda36-48e0-4708-8731-144dc45a9c37",
   "metadata": {},
   "outputs": [
    {
     "name": "stdout",
     "output_type": "stream",
     "text": [
      "Channels:\n",
      " - defaults\n",
      "Platform: win-64\n",
      "Collecting package metadata (repodata.json): ...working... done\n",
      "Solving environment: ...working... failed\n"
     ]
    },
    {
     "name": "stderr",
     "output_type": "stream",
     "text": [
      "warning  libmamba Added empty dependency for problem type SOLVER_RULE_UPDATE\n",
      "\n",
      "LibMambaUnsatisfiableError: Encountered problems while solving:\n",
      "  - package _ipyw_jlab_nb_ext_conf-0.1.0-py27_0 requires python >=2.7,<2.8.0a0, but none of the providers can be installed\n",
      "\n",
      "Could not solve for environment specs\n",
      "The following packages are incompatible\n",
      "├─ _ipyw_jlab_nb_ext_conf is installable with the potential options\n",
      "│  ├─ _ipyw_jlab_nb_ext_conf 0.1.0 would require\n",
      "│  │  └─ python >=2.7,<2.8.0a0 , which can be installed;\n",
      "│  ├─ _ipyw_jlab_nb_ext_conf 0.1.0 would require\n",
      "│  │  └─ python >=3.5,<3.6.0a0 , which can be installed;\n",
      "│  ├─ _ipyw_jlab_nb_ext_conf 0.1.0 would require\n",
      "│  │  └─ python >=3.6,<3.7.0a0 , which can be installed;\n",
      "│  ├─ _ipyw_jlab_nb_ext_conf 0.1.0 would require\n",
      "│  │  └─ python >=3.7,<3.8.0a0 , which can be installed;\n",
      "│  ├─ _ipyw_jlab_nb_ext_conf 0.1.0 would require\n",
      "│  │  └─ python >=3.8,<3.9.0a0 , which can be installed;\n",
      "│  └─ _ipyw_jlab_nb_ext_conf 0.1.0 would require\n",
      "│     └─ python >=3.9,<3.10.0a0 , which can be installed;\n",
      "└─ pin-1 is not installable because it requires\n",
      "   └─ python 3.10.* , which conflicts with any installable versions previously reported.\n",
      "\n",
      "Pins seem to be involved in the conflict. Currently pinned specs:\n",
      " - python 3.10.* (labeled as 'pin-1')\n",
      "\n",
      "\n"
     ]
    }
   ],
   "source": [
    "!conda install _ipyw_jlab_nb_ext_conf"
   ]
  },
  {
   "cell_type": "code",
   "execution_count": 2,
   "id": "87f0b642",
   "metadata": {},
   "outputs": [],
   "source": [
    "maxdiff_model = pd.read_csv(\"MaxDiff Model Data.csv\")"
   ]
  },
  {
   "cell_type": "code",
   "execution_count": 3,
   "id": "3dec7c52",
   "metadata": {},
   "outputs": [
    {
     "data": {
      "text/html": [
       "<div>\n",
       "<style scoped>\n",
       "    .dataframe tbody tr th:only-of-type {\n",
       "        vertical-align: middle;\n",
       "    }\n",
       "\n",
       "    .dataframe tbody tr th {\n",
       "        vertical-align: top;\n",
       "    }\n",
       "\n",
       "    .dataframe thead th {\n",
       "        text-align: right;\n",
       "    }\n",
       "</style>\n",
       "<table border=\"1\" class=\"dataframe\">\n",
       "  <thead>\n",
       "    <tr style=\"text-align: right;\">\n",
       "      <th></th>\n",
       "      <th>Respondent</th>\n",
       "      <th>S3_Recode</th>\n",
       "      <th>CATV_INSTALLATION_DATE</th>\n",
       "      <th>Churn_risk</th>\n",
       "      <th>CITY_NAME</th>\n",
       "      <th>CommercialProductName</th>\n",
       "      <th>COMMUNITY_NAME</th>\n",
       "      <th>ConvergedStatus</th>\n",
       "      <th>DTV_INSTALLATION_DATE</th>\n",
       "      <th>DTV_TIER_OPTION_NAME</th>\n",
       "      <th>...</th>\n",
       "      <th>MoviesSeriesStd</th>\n",
       "      <th>MoviesSeriesXL</th>\n",
       "      <th>MSL_Benefit</th>\n",
       "      <th>PlayLevel</th>\n",
       "      <th>SALUTATION</th>\n",
       "      <th>TELEPHONY_INSTALLATION_DATE</th>\n",
       "      <th>TELEPHONY_TIER_OPTION_NAME</th>\n",
       "      <th>Tenure</th>\n",
       "      <th>TVContentPack</th>\n",
       "      <th>Sport,</th>\n",
       "    </tr>\n",
       "  </thead>\n",
       "  <tbody>\n",
       "    <tr>\n",
       "      <th>0</th>\n",
       "      <td>1</td>\n",
       "      <td>MEDIUM RISK</td>\n",
       "      <td>43985.0</td>\n",
       "      <td>high</td>\n",
       "      <td>LEERDAM</td>\n",
       "      <td>Internet Complete &amp; TV Start (2P)</td>\n",
       "      <td>VIJFHEERENLANDEN</td>\n",
       "      <td>Not Converged</td>\n",
       "      <td>43970.0</td>\n",
       "      <td>Extra Channel Pack No Horizon</td>\n",
       "      <td>...</td>\n",
       "      <td>0</td>\n",
       "      <td>1</td>\n",
       "      <td>0</td>\n",
       "      <td>TV + INT</td>\n",
       "      <td>Dhr.</td>\n",
       "      <td>0.0</td>\n",
       "      <td>0</td>\n",
       "      <td>0.789041096</td>\n",
       "      <td>Extra Channel Pack</td>\n",
       "      <td>0,</td>\n",
       "    </tr>\n",
       "    <tr>\n",
       "      <th>1</th>\n",
       "      <td>2</td>\n",
       "      <td>MEDIUM RISK</td>\n",
       "      <td>41626.0</td>\n",
       "      <td>mid</td>\n",
       "      <td>GELDROP</td>\n",
       "      <td>Internet Complete &amp; TV Max (2P)</td>\n",
       "      <td>GELDROP-MIERLO</td>\n",
       "      <td>Not Converged</td>\n",
       "      <td>41626.0</td>\n",
       "      <td>Extra Channel Pack Horizon</td>\n",
       "      <td>...</td>\n",
       "      <td>0</td>\n",
       "      <td>1</td>\n",
       "      <td>0</td>\n",
       "      <td>TV + INT</td>\n",
       "      <td>Mevr.</td>\n",
       "      <td>41626.0</td>\n",
       "      <td>0</td>\n",
       "      <td>7.210.958.904</td>\n",
       "      <td>Extra Channel Pack</td>\n",
       "      <td>0,</td>\n",
       "    </tr>\n",
       "    <tr>\n",
       "      <th>2</th>\n",
       "      <td>3</td>\n",
       "      <td>HIGH RISK</td>\n",
       "      <td>40308.0</td>\n",
       "      <td>mid</td>\n",
       "      <td>KLIMMEN</td>\n",
       "      <td>Internet Complete &amp; TV Start</td>\n",
       "      <td>VOERENDAAL</td>\n",
       "      <td>Not Converged</td>\n",
       "      <td>40308.0</td>\n",
       "      <td>Standard Channel Pack No Horizon</td>\n",
       "      <td>...</td>\n",
       "      <td>0</td>\n",
       "      <td>0</td>\n",
       "      <td>0</td>\n",
       "      <td>TV + INT + TEL</td>\n",
       "      <td>Dhr.</td>\n",
       "      <td>40308.0</td>\n",
       "      <td>Vast Bellen</td>\n",
       "      <td>1.082.191.781</td>\n",
       "      <td>Standard Channel Pack</td>\n",
       "      <td>0,</td>\n",
       "    </tr>\n",
       "    <tr>\n",
       "      <th>3</th>\n",
       "      <td>4</td>\n",
       "      <td>LOYAL &amp; LIGHT RISK</td>\n",
       "      <td>43220.0</td>\n",
       "      <td>high</td>\n",
       "      <td>VENRAY</td>\n",
       "      <td>Internet Start &amp; TV Start (2P)</td>\n",
       "      <td>VENRAY</td>\n",
       "      <td>Converged</td>\n",
       "      <td>43219.0</td>\n",
       "      <td>Standard Channel Pack No Horizon</td>\n",
       "      <td>...</td>\n",
       "      <td>0</td>\n",
       "      <td>0</td>\n",
       "      <td>1</td>\n",
       "      <td>TV + INT</td>\n",
       "      <td>Dhr.</td>\n",
       "      <td>0.0</td>\n",
       "      <td>0</td>\n",
       "      <td>2.846.575.342</td>\n",
       "      <td>Standard Channel Pack</td>\n",
       "      <td>0,</td>\n",
       "    </tr>\n",
       "    <tr>\n",
       "      <th>4</th>\n",
       "      <td>5</td>\n",
       "      <td>LOYAL &amp; LIGHT RISK</td>\n",
       "      <td>42663.0</td>\n",
       "      <td>low</td>\n",
       "      <td>BUNDE</td>\n",
       "      <td>Internet Complete &amp; TV Start</td>\n",
       "      <td>MEERSSEN</td>\n",
       "      <td>Converged</td>\n",
       "      <td>42663.0</td>\n",
       "      <td>Standard Channel Pack No Horizon</td>\n",
       "      <td>...</td>\n",
       "      <td>0</td>\n",
       "      <td>0</td>\n",
       "      <td>1</td>\n",
       "      <td>TV + INT + TEL</td>\n",
       "      <td>Dhr.</td>\n",
       "      <td>42663.0</td>\n",
       "      <td>Volop Bellen</td>\n",
       "      <td>4.369.863.014</td>\n",
       "      <td>Standard Channel Pack</td>\n",
       "      <td>0,</td>\n",
       "    </tr>\n",
       "    <tr>\n",
       "      <th>...</th>\n",
       "      <td>...</td>\n",
       "      <td>...</td>\n",
       "      <td>...</td>\n",
       "      <td>...</td>\n",
       "      <td>...</td>\n",
       "      <td>...</td>\n",
       "      <td>...</td>\n",
       "      <td>...</td>\n",
       "      <td>...</td>\n",
       "      <td>...</td>\n",
       "      <td>...</td>\n",
       "      <td>...</td>\n",
       "      <td>...</td>\n",
       "      <td>...</td>\n",
       "      <td>...</td>\n",
       "      <td>...</td>\n",
       "      <td>...</td>\n",
       "      <td>...</td>\n",
       "      <td>...</td>\n",
       "      <td>...</td>\n",
       "      <td>...</td>\n",
       "    </tr>\n",
       "    <tr>\n",
       "      <th>2664</th>\n",
       "      <td>7299</td>\n",
       "      <td>LOYAL &amp; LIGHT RISK</td>\n",
       "      <td>42668.0</td>\n",
       "      <td>high</td>\n",
       "      <td>APELDOORN</td>\n",
       "      <td>Internet Complete &amp; TV Start</td>\n",
       "      <td>APELDOORN</td>\n",
       "      <td>Not Converged</td>\n",
       "      <td>42668.0</td>\n",
       "      <td>Extra Channel Pack No Horizon</td>\n",
       "      <td>...</td>\n",
       "      <td>0</td>\n",
       "      <td>1</td>\n",
       "      <td>0</td>\n",
       "      <td>TV + INT + TEL</td>\n",
       "      <td>Dhr./Mevr.</td>\n",
       "      <td>42668.0</td>\n",
       "      <td>Volop Bellen Internationaal</td>\n",
       "      <td>4.356.164.384</td>\n",
       "      <td>Extra Channel Pack</td>\n",
       "      <td>0,</td>\n",
       "    </tr>\n",
       "    <tr>\n",
       "      <th>2665</th>\n",
       "      <td>7304</td>\n",
       "      <td>MEDIUM RISK</td>\n",
       "      <td>40179.0</td>\n",
       "      <td>low</td>\n",
       "      <td>GOIRLE</td>\n",
       "      <td>Internet Start &amp; TV Start</td>\n",
       "      <td>GOIRLE</td>\n",
       "      <td>Converged</td>\n",
       "      <td>40179.0</td>\n",
       "      <td>Standard Channel Pack No Horizon</td>\n",
       "      <td>...</td>\n",
       "      <td>0</td>\n",
       "      <td>0</td>\n",
       "      <td>1</td>\n",
       "      <td>TV + INT + TEL</td>\n",
       "      <td>Dhr.</td>\n",
       "      <td>40179.0</td>\n",
       "      <td>Volop Bellen</td>\n",
       "      <td>1.117.534.247</td>\n",
       "      <td>Standard Channel Pack</td>\n",
       "      <td>0,</td>\n",
       "    </tr>\n",
       "    <tr>\n",
       "      <th>2666</th>\n",
       "      <td>7305</td>\n",
       "      <td>MEDIUM RISK</td>\n",
       "      <td>40232.0</td>\n",
       "      <td>low</td>\n",
       "      <td>LANDGRAAF</td>\n",
       "      <td>Internet Complete &amp; TV Complete Next</td>\n",
       "      <td>LANDGRAAF</td>\n",
       "      <td>Converged</td>\n",
       "      <td>40232.0</td>\n",
       "      <td>Standard Channel Pack No Horizon</td>\n",
       "      <td>...</td>\n",
       "      <td>1</td>\n",
       "      <td>0</td>\n",
       "      <td>0</td>\n",
       "      <td>TV + INT + TEL</td>\n",
       "      <td>Dhr.</td>\n",
       "      <td>40232.0</td>\n",
       "      <td>Vast Bellen</td>\n",
       "      <td>1.103.013.699</td>\n",
       "      <td>Standard Channel Pack</td>\n",
       "      <td>1,</td>\n",
       "    </tr>\n",
       "    <tr>\n",
       "      <th>2667</th>\n",
       "      <td>7306</td>\n",
       "      <td>LOYAL &amp; LIGHT RISK</td>\n",
       "      <td>42571.0</td>\n",
       "      <td>high</td>\n",
       "      <td>BOEKEL</td>\n",
       "      <td>Internet Start &amp; TV Complete (2P)</td>\n",
       "      <td>BOEKEL</td>\n",
       "      <td>Not Converged</td>\n",
       "      <td>42593.0</td>\n",
       "      <td>Standard Channel Pack Horizon</td>\n",
       "      <td>...</td>\n",
       "      <td>1</td>\n",
       "      <td>0</td>\n",
       "      <td>0</td>\n",
       "      <td>TV + INT</td>\n",
       "      <td>Dhr.</td>\n",
       "      <td>0.0</td>\n",
       "      <td>0</td>\n",
       "      <td>4.621.917.808</td>\n",
       "      <td>Standard Channel Pack</td>\n",
       "      <td>0,</td>\n",
       "    </tr>\n",
       "    <tr>\n",
       "      <th>2668</th>\n",
       "      <td>7309</td>\n",
       "      <td>HIGH RISK</td>\n",
       "      <td>43360.0</td>\n",
       "      <td>low</td>\n",
       "      <td>JULIANADORP</td>\n",
       "      <td>Internet Complete &amp; TV Complete Next</td>\n",
       "      <td>DEN HELDER</td>\n",
       "      <td>Converged</td>\n",
       "      <td>43358.0</td>\n",
       "      <td>Standard Channel Pack No Horizon</td>\n",
       "      <td>...</td>\n",
       "      <td>1</td>\n",
       "      <td>0</td>\n",
       "      <td>1</td>\n",
       "      <td>TV + INT + TEL</td>\n",
       "      <td>Mevr.</td>\n",
       "      <td>43358.0</td>\n",
       "      <td>Vast Bellen</td>\n",
       "      <td>2.465.753.425</td>\n",
       "      <td>Standard Channel Pack</td>\n",
       "      <td>0,</td>\n",
       "    </tr>\n",
       "  </tbody>\n",
       "</table>\n",
       "<p>2669 rows × 35 columns</p>\n",
       "</div>"
      ],
      "text/plain": [
       "      Respondent           S3_Recode  CATV_INSTALLATION_DATE Churn_risk  \\\n",
       "0              1         MEDIUM RISK                 43985.0       high   \n",
       "1              2         MEDIUM RISK                 41626.0        mid   \n",
       "2              3           HIGH RISK                 40308.0        mid   \n",
       "3              4  LOYAL & LIGHT RISK                 43220.0       high   \n",
       "4              5  LOYAL & LIGHT RISK                 42663.0        low   \n",
       "...          ...                 ...                     ...        ...   \n",
       "2664        7299  LOYAL & LIGHT RISK                 42668.0       high   \n",
       "2665        7304         MEDIUM RISK                 40179.0        low   \n",
       "2666        7305         MEDIUM RISK                 40232.0        low   \n",
       "2667        7306  LOYAL & LIGHT RISK                 42571.0       high   \n",
       "2668        7309           HIGH RISK                 43360.0        low   \n",
       "\n",
       "        CITY_NAME                 CommercialProductName    COMMUNITY_NAME  \\\n",
       "0         LEERDAM     Internet Complete & TV Start (2P)  VIJFHEERENLANDEN   \n",
       "1         GELDROP       Internet Complete & TV Max (2P)    GELDROP-MIERLO   \n",
       "2         KLIMMEN          Internet Complete & TV Start        VOERENDAAL   \n",
       "3          VENRAY        Internet Start & TV Start (2P)            VENRAY   \n",
       "4           BUNDE          Internet Complete & TV Start          MEERSSEN   \n",
       "...           ...                                   ...               ...   \n",
       "2664    APELDOORN          Internet Complete & TV Start         APELDOORN   \n",
       "2665       GOIRLE             Internet Start & TV Start            GOIRLE   \n",
       "2666    LANDGRAAF  Internet Complete & TV Complete Next         LANDGRAAF   \n",
       "2667       BOEKEL     Internet Start & TV Complete (2P)            BOEKEL   \n",
       "2668  JULIANADORP  Internet Complete & TV Complete Next        DEN HELDER   \n",
       "\n",
       "     ConvergedStatus  DTV_INSTALLATION_DATE              DTV_TIER_OPTION_NAME  \\\n",
       "0      Not Converged                43970.0     Extra Channel Pack No Horizon   \n",
       "1      Not Converged                41626.0        Extra Channel Pack Horizon   \n",
       "2      Not Converged                40308.0  Standard Channel Pack No Horizon   \n",
       "3          Converged                43219.0  Standard Channel Pack No Horizon   \n",
       "4          Converged                42663.0  Standard Channel Pack No Horizon   \n",
       "...              ...                    ...                               ...   \n",
       "2664   Not Converged                42668.0     Extra Channel Pack No Horizon   \n",
       "2665       Converged                40179.0  Standard Channel Pack No Horizon   \n",
       "2666       Converged                40232.0  Standard Channel Pack No Horizon   \n",
       "2667   Not Converged                42593.0     Standard Channel Pack Horizon   \n",
       "2668       Converged                43358.0  Standard Channel Pack No Horizon   \n",
       "\n",
       "      ...  MoviesSeriesStd MoviesSeriesXL  MSL_Benefit       PlayLevel  \\\n",
       "0     ...                0              1            0        TV + INT   \n",
       "1     ...                0              1            0        TV + INT   \n",
       "2     ...                0              0            0  TV + INT + TEL   \n",
       "3     ...                0              0            1        TV + INT   \n",
       "4     ...                0              0            1  TV + INT + TEL   \n",
       "...   ...              ...            ...          ...             ...   \n",
       "2664  ...                0              1            0  TV + INT + TEL   \n",
       "2665  ...                0              0            1  TV + INT + TEL   \n",
       "2666  ...                1              0            0  TV + INT + TEL   \n",
       "2667  ...                1              0            0        TV + INT   \n",
       "2668  ...                1              0            1  TV + INT + TEL   \n",
       "\n",
       "      SALUTATION  TELEPHONY_INSTALLATION_DATE   TELEPHONY_TIER_OPTION_NAME  \\\n",
       "0           Dhr.                          0.0                            0   \n",
       "1          Mevr.                      41626.0                            0   \n",
       "2           Dhr.                      40308.0                  Vast Bellen   \n",
       "3           Dhr.                          0.0                            0   \n",
       "4           Dhr.                      42663.0                 Volop Bellen   \n",
       "...          ...                          ...                          ...   \n",
       "2664  Dhr./Mevr.                      42668.0  Volop Bellen Internationaal   \n",
       "2665        Dhr.                      40179.0                 Volop Bellen   \n",
       "2666        Dhr.                      40232.0                  Vast Bellen   \n",
       "2667        Dhr.                          0.0                            0   \n",
       "2668       Mevr.                      43358.0                  Vast Bellen   \n",
       "\n",
       "             Tenure          TVContentPack Sport,  \n",
       "0       0.789041096     Extra Channel Pack     0,  \n",
       "1     7.210.958.904     Extra Channel Pack     0,  \n",
       "2     1.082.191.781  Standard Channel Pack     0,  \n",
       "3     2.846.575.342  Standard Channel Pack     0,  \n",
       "4     4.369.863.014  Standard Channel Pack     0,  \n",
       "...             ...                    ...    ...  \n",
       "2664  4.356.164.384     Extra Channel Pack     0,  \n",
       "2665  1.117.534.247  Standard Channel Pack     0,  \n",
       "2666  1.103.013.699  Standard Channel Pack     1,  \n",
       "2667  4.621.917.808  Standard Channel Pack     0,  \n",
       "2668  2.465.753.425  Standard Channel Pack     0,  \n",
       "\n",
       "[2669 rows x 35 columns]"
      ]
     },
     "execution_count": 3,
     "metadata": {},
     "output_type": "execute_result"
    }
   ],
   "source": [
    "maxdiff_model"
   ]
  },
  {
   "cell_type": "code",
   "execution_count": 11,
   "id": "c86643b6",
   "metadata": {},
   "outputs": [],
   "source": [
    "#!pip install geopy"
   ]
  },
  {
   "cell_type": "code",
   "execution_count": 12,
   "id": "19af4f58",
   "metadata": {},
   "outputs": [],
   "source": [
    "import geopy\n",
    "from geopy.geocoders import Nominatim"
   ]
  },
  {
   "cell_type": "code",
   "execution_count": 13,
   "id": "b8beb2a7",
   "metadata": {},
   "outputs": [
    {
     "data": {
      "text/plain": [
       "'Overijssel'"
      ]
     },
     "execution_count": 13,
     "metadata": {},
     "output_type": "execute_result"
    }
   ],
   "source": [
    "geolocator = Nominatim(user_agent=\"111\")\n",
    "location = geolocator.geocode('HEETEN', addressdetails=True)\n",
    "location.raw['address']['state']"
   ]
  },
  {
   "cell_type": "code",
   "execution_count": 14,
   "id": "b370e28c",
   "metadata": {},
   "outputs": [
    {
     "data": {
      "text/plain": [
       "pandas.core.frame.DataFrame"
      ]
     },
     "execution_count": 14,
     "metadata": {},
     "output_type": "execute_result"
    }
   ],
   "source": [
    "type(maxdiff_model)"
   ]
  },
  {
   "cell_type": "code",
   "execution_count": 15,
   "id": "513f6a8c",
   "metadata": {},
   "outputs": [],
   "source": [
    "def get_province(CITY_NAME):\n",
    "    \n",
    "    try:\n",
    "        # Geocode the city name to get its information, including the province\n",
    "        location = geolocator.geocode(f\"{city_name}, Netherlands\", addressdetails=True)\n",
    "\n",
    "        # Extract the province from the location data\n",
    "        province = location.raw['address']['state']\n",
    "        \n",
    "        return province\n",
    "    \n",
    "    except KeyError:#AttributeError:\n",
    "        \n",
    "        return \"Province not found\""
   ]
  },
  {
   "cell_type": "code",
   "execution_count": 16,
   "id": "2c7fb497",
   "metadata": {},
   "outputs": [],
   "source": [
    "from tqdm import tqdm\n",
    "# We need to separate this to several parts as the api will time out."
   ]
  },
  {
   "cell_type": "code",
   "execution_count": 17,
   "id": "eb84aa11",
   "metadata": {},
   "outputs": [
    {
     "name": "stderr",
     "output_type": "stream",
     "text": [
      "Geocoding Progress: 100%|██████████| 1000/1000 [11:52<00:00,  1.40it/s]\n"
     ]
    }
   ],
   "source": [
    "province_list = []\n",
    "for city_name in tqdm(maxdiff_model['CITY_NAME'][:1000], desc=\"Geocoding Progress\"):\n",
    "    try:\n",
    "        geolocator = Nominatim(user_agent=\"111\")\n",
    "        # Geocode the city name to get its information, including the province\n",
    "        location = geolocator.geocode(f\"{city_name}, Netherlands\", addressdetails=True)\n",
    "\n",
    "        # Extract the province from the location data and append it to the list\n",
    "        province = location.raw['address']['state']\n",
    "        province_list.append(province)\n",
    "    except (KeyError, AttributeError):\n",
    "        # If the province is not found, append a placeholder value (you can customize this)\n",
    "        province_list.append(\"Province not found\")"
   ]
  },
  {
   "cell_type": "code",
   "execution_count": 18,
   "id": "5dd26aa0",
   "metadata": {},
   "outputs": [
    {
     "data": {
      "text/plain": [
       "1000"
      ]
     },
     "execution_count": 18,
     "metadata": {},
     "output_type": "execute_result"
    }
   ],
   "source": [
    "len(province_list)"
   ]
  },
  {
   "cell_type": "code",
   "execution_count": 19,
   "id": "39bd920b",
   "metadata": {},
   "outputs": [
    {
     "name": "stderr",
     "output_type": "stream",
     "text": [
      "Geocoding Progress: 100%|██████████| 500/500 [05:54<00:00,  1.41it/s]\n"
     ]
    }
   ],
   "source": [
    "for city_name in tqdm(maxdiff_model['CITY_NAME'][1000:1500], desc=\"Geocoding Progress\"):\n",
    "    try:\n",
    "        geolocator = Nominatim(user_agent=\"222\")\n",
    "        # Geocode the city name to get its information, including the province\n",
    "        location = geolocator.geocode(f\"{city_name}, Netherlands\", addressdetails=True)\n",
    "\n",
    "        # Extract the province from the location data and append it to the list\n",
    "        province = location.raw['address']['state']\n",
    "        province_list.append(province)\n",
    "    except (KeyError, AttributeError):\n",
    "        # If the province is not found, append a placeholder value (you can customize this)\n",
    "        province_list.append(\"Province not found\")"
   ]
  },
  {
   "cell_type": "code",
   "execution_count": 20,
   "id": "7a81457c",
   "metadata": {},
   "outputs": [
    {
     "data": {
      "text/plain": [
       "1500"
      ]
     },
     "execution_count": 20,
     "metadata": {},
     "output_type": "execute_result"
    }
   ],
   "source": [
    "len(province_list)"
   ]
  },
  {
   "cell_type": "code",
   "execution_count": 21,
   "id": "1059ccc7",
   "metadata": {},
   "outputs": [
    {
     "name": "stderr",
     "output_type": "stream",
     "text": [
      "Geocoding Progress: 100%|██████████| 500/500 [05:42<00:00,  1.46it/s]\n"
     ]
    }
   ],
   "source": [
    "for city_name in tqdm(maxdiff_model['CITY_NAME'][1500:2000], desc=\"Geocoding Progress\"):\n",
    "    try:\n",
    "        geolocator = Nominatim(user_agent=\"333\")\n",
    "        # Geocode the city name to get its information, including the province\n",
    "        location = geolocator.geocode(f\"{city_name}, Netherlands\", addressdetails=True)\n",
    "\n",
    "        # Extract the province from the location data and append it to the list\n",
    "        province = location.raw['address']['state']\n",
    "        province_list.append(province)\n",
    "    except (KeyError, AttributeError):\n",
    "        # If the province is not found, append a placeholder value (you can customize this)\n",
    "        province_list.append(\"Province not found\")"
   ]
  },
  {
   "cell_type": "code",
   "execution_count": 22,
   "id": "d1f6e243",
   "metadata": {},
   "outputs": [
    {
     "data": {
      "text/plain": [
       "2000"
      ]
     },
     "execution_count": 22,
     "metadata": {},
     "output_type": "execute_result"
    }
   ],
   "source": [
    "len(province_list)"
   ]
  },
  {
   "cell_type": "code",
   "execution_count": 23,
   "id": "2177ac21",
   "metadata": {},
   "outputs": [
    {
     "name": "stderr",
     "output_type": "stream",
     "text": [
      "Geocoding Progress: 100%|██████████| 669/669 [07:45<00:00,  1.44it/s]\n"
     ]
    }
   ],
   "source": [
    "for city_name in tqdm(maxdiff_model['CITY_NAME'][2000:], desc=\"Geocoding Progress\"):\n",
    "    try:\n",
    "        geolocator = Nominatim(user_agent=\"444\")\n",
    "        # Geocode the city name to get its information, including the province\n",
    "        location = geolocator.geocode(f\"{city_name}, Netherlands\", addressdetails=True)\n",
    "\n",
    "        # Extract the province from the location data and append it to the list\n",
    "        province = location.raw['address']['state']\n",
    "        province_list.append(province)\n",
    "    except (KeyError, AttributeError):\n",
    "        # If the province is not found, append a placeholder value (you can customize this)\n",
    "        province_list.append(\"Province not found\")"
   ]
  },
  {
   "cell_type": "code",
   "execution_count": 24,
   "id": "4e173bb0",
   "metadata": {},
   "outputs": [
    {
     "data": {
      "text/plain": [
       "2669"
      ]
     },
     "execution_count": 24,
     "metadata": {},
     "output_type": "execute_result"
    }
   ],
   "source": [
    "len(province_list)"
   ]
  },
  {
   "cell_type": "code",
   "execution_count": 25,
   "id": "8ad36e77",
   "metadata": {},
   "outputs": [],
   "source": [
    "#This leads to a KeyError\n",
    "#get_province(\"DELFZIJL\")\n",
    "\n",
    "#This leads to an AttributeError\n",
    "#get_province(\"EDE GLD\")"
   ]
  },
  {
   "cell_type": "code",
   "execution_count": 26,
   "id": "b6ddd383",
   "metadata": {},
   "outputs": [],
   "source": [
    "maxdiff_model['PROVINCE'] = province_list"
   ]
  },
  {
   "cell_type": "code",
   "execution_count": 27,
   "id": "b1ea6778",
   "metadata": {},
   "outputs": [
    {
     "name": "stdout",
     "output_type": "stream",
     "text": [
      "0             Utrecht\n",
      "1       Noord-Brabant\n",
      "2             Limburg\n",
      "3             Limburg\n",
      "4             Limburg\n",
      "            ...      \n",
      "2664       Gelderland\n",
      "2665    Noord-Brabant\n",
      "2666          Limburg\n",
      "2667    Noord-Brabant\n",
      "2668    Noord-Holland\n",
      "Name: PROVINCE, Length: 2669, dtype: object\n"
     ]
    }
   ],
   "source": [
    "print(maxdiff_model[\"PROVINCE\"])"
   ]
  },
  {
   "cell_type": "code",
   "execution_count": 28,
   "id": "8e769cf1",
   "metadata": {},
   "outputs": [
    {
     "data": {
      "text/plain": [
       "0       43985.0\n",
       "1       41626.0\n",
       "2       40308.0\n",
       "3       43220.0\n",
       "4       42663.0\n",
       "         ...   \n",
       "2664    42668.0\n",
       "2665    40179.0\n",
       "2666    40232.0\n",
       "2667    42571.0\n",
       "2668    43360.0\n",
       "Name: CATV_INSTALLATION_DATE, Length: 2669, dtype: float64"
      ]
     },
     "execution_count": 28,
     "metadata": {},
     "output_type": "execute_result"
    }
   ],
   "source": [
    "maxdiff_model[\"CATV_INSTALLATION_DATE\"]"
   ]
  },
  {
   "cell_type": "code",
   "execution_count": 29,
   "id": "d1f7d6de",
   "metadata": {},
   "outputs": [
    {
     "name": "stdout",
     "output_type": "stream",
     "text": [
      "0    43985.0\n",
      "Name: CATV_INSTALLATION_DATE, dtype: float64\n"
     ]
    }
   ],
   "source": [
    "print(maxdiff_model[\"CATV_INSTALLATION_DATE\"][:1])"
   ]
  },
  {
   "cell_type": "code",
   "execution_count": 30,
   "id": "6bd8f48c",
   "metadata": {},
   "outputs": [
    {
     "name": "stdout",
     "output_type": "stream",
     "text": [
      "      Respondent           S3_Recode  CATV_INSTALLATION_DATE Churn_risk  \\\n",
      "0              1         MEDIUM RISK                 43985.0       high   \n",
      "1              2         MEDIUM RISK                 41626.0        mid   \n",
      "2              3           HIGH RISK                 40308.0        mid   \n",
      "3              4  LOYAL & LIGHT RISK                 43220.0       high   \n",
      "4              5  LOYAL & LIGHT RISK                 42663.0        low   \n",
      "...          ...                 ...                     ...        ...   \n",
      "2664        7299  LOYAL & LIGHT RISK                 42668.0       high   \n",
      "2665        7304         MEDIUM RISK                 40179.0        low   \n",
      "2666        7305         MEDIUM RISK                 40232.0        low   \n",
      "2667        7306  LOYAL & LIGHT RISK                 42571.0       high   \n",
      "2668        7309           HIGH RISK                 43360.0        low   \n",
      "\n",
      "        CITY_NAME                 CommercialProductName    COMMUNITY_NAME  \\\n",
      "0         LEERDAM     Internet Complete & TV Start (2P)  VIJFHEERENLANDEN   \n",
      "1         GELDROP       Internet Complete & TV Max (2P)    GELDROP-MIERLO   \n",
      "2         KLIMMEN          Internet Complete & TV Start        VOERENDAAL   \n",
      "3          VENRAY        Internet Start & TV Start (2P)            VENRAY   \n",
      "4           BUNDE          Internet Complete & TV Start          MEERSSEN   \n",
      "...           ...                                   ...               ...   \n",
      "2664    APELDOORN          Internet Complete & TV Start         APELDOORN   \n",
      "2665       GOIRLE             Internet Start & TV Start            GOIRLE   \n",
      "2666    LANDGRAAF  Internet Complete & TV Complete Next         LANDGRAAF   \n",
      "2667       BOEKEL     Internet Start & TV Complete (2P)            BOEKEL   \n",
      "2668  JULIANADORP  Internet Complete & TV Complete Next        DEN HELDER   \n",
      "\n",
      "     ConvergedStatus  DTV_INSTALLATION_DATE              DTV_TIER_OPTION_NAME  \\\n",
      "0      Not Converged                43970.0     Extra Channel Pack No Horizon   \n",
      "1      Not Converged                41626.0        Extra Channel Pack Horizon   \n",
      "2      Not Converged                40308.0  Standard Channel Pack No Horizon   \n",
      "3          Converged                43219.0  Standard Channel Pack No Horizon   \n",
      "4          Converged                42663.0  Standard Channel Pack No Horizon   \n",
      "...              ...                    ...                               ...   \n",
      "2664   Not Converged                42668.0     Extra Channel Pack No Horizon   \n",
      "2665       Converged                40179.0  Standard Channel Pack No Horizon   \n",
      "2666       Converged                40232.0  Standard Channel Pack No Horizon   \n",
      "2667   Not Converged                42593.0     Standard Channel Pack Horizon   \n",
      "2668       Converged                43358.0  Standard Channel Pack No Horizon   \n",
      "\n",
      "      ...         Tenure          TVContentPack  Sport,       PROVINCE  \\\n",
      "0     ...    0.789041096     Extra Channel Pack      0,        Utrecht   \n",
      "1     ...  7.210.958.904     Extra Channel Pack      0,  Noord-Brabant   \n",
      "2     ...  1.082.191.781  Standard Channel Pack      0,        Limburg   \n",
      "3     ...  2.846.575.342  Standard Channel Pack      0,        Limburg   \n",
      "4     ...  4.369.863.014  Standard Channel Pack      0,        Limburg   \n",
      "...   ...            ...                    ...     ...            ...   \n",
      "2664  ...  4.356.164.384     Extra Channel Pack      0,     Gelderland   \n",
      "2665  ...  1.117.534.247  Standard Channel Pack      0,  Noord-Brabant   \n",
      "2666  ...  1.103.013.699  Standard Channel Pack      1,        Limburg   \n",
      "2667  ...  4.621.917.808  Standard Channel Pack      0,  Noord-Brabant   \n",
      "2668  ...  2.465.753.425  Standard Channel Pack      0,  Noord-Holland   \n",
      "\n",
      "      NORMAL_CATV_INSTALLATION_DATE  MDiff_CATV_INSTALLATION_DATE  \\\n",
      "0                        2020-06-04                            41   \n",
      "1                        2013-12-19                           119   \n",
      "2                        2010-05-11                           162   \n",
      "3                        2018-05-01                            66   \n",
      "4                        2016-10-21                            85   \n",
      "...                             ...                           ...   \n",
      "2664                     2016-10-26                            85   \n",
      "2665                     2010-01-02                           166   \n",
      "2666                     2010-02-24                           165   \n",
      "2667                     2016-07-21                            88   \n",
      "2668                     2018-09-18                            62   \n",
      "\n",
      "      NORMAL_DTV_INSTALLATION_DATE  MDiff_DTV_INSTALLATION_DATE  \\\n",
      "0                       2020-05-20                           42   \n",
      "1                       2013-12-19                          119   \n",
      "2                       2010-05-11                          162   \n",
      "3                       2018-04-30                           67   \n",
      "4                       2016-10-21                           85   \n",
      "...                            ...                          ...   \n",
      "2664                    2016-10-26                           85   \n",
      "2665                    2010-01-02                          166   \n",
      "2666                    2010-02-24                          165   \n",
      "2667                    2016-08-12                           87   \n",
      "2668                    2018-09-16                           62   \n",
      "\n",
      "      NORMAL_INTERNET_INSTALLATION_DATE MDiff_INTERNET_INSTALLATION_DATE  \n",
      "0                            2020-05-20                               42  \n",
      "1                            2013-12-19                              119  \n",
      "2                            2010-05-11                              162  \n",
      "3                            2018-04-30                               67  \n",
      "4                            2016-10-21                               85  \n",
      "...                                 ...                              ...  \n",
      "2664                         2016-10-26                               85  \n",
      "2665                         2010-01-02                              166  \n",
      "2666                         2010-02-24                              165  \n",
      "2667                         2016-08-12                               87  \n",
      "2668                         2018-09-16                               62  \n",
      "\n",
      "[2669 rows x 42 columns]\n"
     ]
    }
   ],
   "source": [
    "from datetime import datetime, timedelta\n",
    "\n",
    "# Function to convert Julian date to calendar date\n",
    "def julian_to_calendar_date(julian_date):\n",
    "    reference_date = datetime(year=1900, month=1, day=1)\n",
    "    calendar_date = reference_date + timedelta(days=julian_date - 1)\n",
    "    return calendar_date\n",
    "\n",
    "# Function to calculate month difference\n",
    "def calculate_month_difference(calendar_date):\n",
    "    today = datetime.today()\n",
    "    month_difference = (today.year - calendar_date.year) * 12 + today.month - calendar_date.month\n",
    "    return month_difference\n",
    "\n",
    "# Apply functions to the 'JulianDate' column\n",
    "maxdiff_model['NORMAL_CATV_INSTALLATION_DATE'] = maxdiff_model['CATV_INSTALLATION_DATE'].apply(julian_to_calendar_date)\n",
    "maxdiff_model['MDiff_CATV_INSTALLATION_DATE'] = maxdiff_model['NORMAL_CATV_INSTALLATION_DATE'].apply(calculate_month_difference)\n",
    "\n",
    "maxdiff_model['NORMAL_DTV_INSTALLATION_DATE'] = maxdiff_model['DTV_INSTALLATION_DATE'].apply(julian_to_calendar_date)\n",
    "maxdiff_model['MDiff_DTV_INSTALLATION_DATE'] = maxdiff_model['NORMAL_DTV_INSTALLATION_DATE'].apply(calculate_month_difference)\n",
    "\n",
    "maxdiff_model['NORMAL_INTERNET_INSTALLATION_DATE'] = maxdiff_model['INTERNET_INSTALLATION_DATE'].apply(julian_to_calendar_date)\n",
    "maxdiff_model['MDiff_INTERNET_INSTALLATION_DATE'] = maxdiff_model['NORMAL_INTERNET_INSTALLATION_DATE'].apply(calculate_month_difference)\n",
    "\n",
    "# Display the DataFrame\n",
    "print(maxdiff_model)\n"
   ]
  },
  {
   "cell_type": "code",
   "execution_count": 31,
   "id": "83c79721",
   "metadata": {},
   "outputs": [],
   "source": [
    "maxdiff_model = maxdiff_model.drop(columns=[\"CATV_INSTALLATION_DATE\",\n",
    "                                            \"DTV_INSTALLATION_DATE\",\n",
    "                                            \"INTERNET_INSTALLATION_DATE\",\n",
    "                                           \"NORMAL_CATV_INSTALLATION_DATE\",\n",
    "                                           \"NORMAL_DTV_INSTALLATION_DATE\",\n",
    "                                           \"NORMAL_INTERNET_INSTALLATION_DATE\"])"
   ]
  },
  {
   "cell_type": "code",
   "execution_count": 32,
   "id": "2df9d64e",
   "metadata": {},
   "outputs": [
    {
     "name": "stdout",
     "output_type": "stream",
     "text": [
      "      Respondent           S3_Recode Churn_risk    CITY_NAME  \\\n",
      "0              1         MEDIUM RISK       high      LEERDAM   \n",
      "1              2         MEDIUM RISK        mid      GELDROP   \n",
      "2              3           HIGH RISK        mid      KLIMMEN   \n",
      "3              4  LOYAL & LIGHT RISK       high       VENRAY   \n",
      "4              5  LOYAL & LIGHT RISK        low        BUNDE   \n",
      "...          ...                 ...        ...          ...   \n",
      "2664        7299  LOYAL & LIGHT RISK       high    APELDOORN   \n",
      "2665        7304         MEDIUM RISK        low       GOIRLE   \n",
      "2666        7305         MEDIUM RISK        low    LANDGRAAF   \n",
      "2667        7306  LOYAL & LIGHT RISK       high       BOEKEL   \n",
      "2668        7309           HIGH RISK        low  JULIANADORP   \n",
      "\n",
      "                     CommercialProductName    COMMUNITY_NAME ConvergedStatus  \\\n",
      "0        Internet Complete & TV Start (2P)  VIJFHEERENLANDEN   Not Converged   \n",
      "1          Internet Complete & TV Max (2P)    GELDROP-MIERLO   Not Converged   \n",
      "2             Internet Complete & TV Start        VOERENDAAL   Not Converged   \n",
      "3           Internet Start & TV Start (2P)            VENRAY       Converged   \n",
      "4             Internet Complete & TV Start          MEERSSEN       Converged   \n",
      "...                                    ...               ...             ...   \n",
      "2664          Internet Complete & TV Start         APELDOORN   Not Converged   \n",
      "2665             Internet Start & TV Start            GOIRLE       Converged   \n",
      "2666  Internet Complete & TV Complete Next         LANDGRAAF       Converged   \n",
      "2667     Internet Start & TV Complete (2P)            BOEKEL   Not Converged   \n",
      "2668  Internet Complete & TV Complete Next        DEN HELDER       Converged   \n",
      "\n",
      "                  DTV_TIER_OPTION_NAME  Film1               FixedVoicePlan  \\\n",
      "0        Extra Channel Pack No Horizon      0                            0   \n",
      "1           Extra Channel Pack Horizon      0                            0   \n",
      "2     Standard Channel Pack No Horizon      0                  Vast Bellen   \n",
      "3     Standard Channel Pack No Horizon      0                            0   \n",
      "4     Standard Channel Pack No Horizon      0                 Volop Bellen   \n",
      "...                                ...    ...                          ...   \n",
      "2664     Extra Channel Pack No Horizon      0  Volop Bellen Internationaal   \n",
      "2665  Standard Channel Pack No Horizon      0                 Volop Bellen   \n",
      "2666  Standard Channel Pack No Horizon      0                  Vast Bellen   \n",
      "2667     Standard Channel Pack Horizon      0                            0   \n",
      "2668  Standard Channel Pack No Horizon      0                  Vast Bellen   \n",
      "\n",
      "      ...  SALUTATION  TELEPHONY_INSTALLATION_DATE  \\\n",
      "0     ...        Dhr.                          0.0   \n",
      "1     ...       Mevr.                      41626.0   \n",
      "2     ...        Dhr.                      40308.0   \n",
      "3     ...        Dhr.                          0.0   \n",
      "4     ...        Dhr.                      42663.0   \n",
      "...   ...         ...                          ...   \n",
      "2664  ...  Dhr./Mevr.                      42668.0   \n",
      "2665  ...        Dhr.                      40179.0   \n",
      "2666  ...        Dhr.                      40232.0   \n",
      "2667  ...        Dhr.                          0.0   \n",
      "2668  ...       Mevr.                      43358.0   \n",
      "\n",
      "       TELEPHONY_TIER_OPTION_NAME         Tenure          TVContentPack  \\\n",
      "0                               0    0.789041096     Extra Channel Pack   \n",
      "1                               0  7.210.958.904     Extra Channel Pack   \n",
      "2                     Vast Bellen  1.082.191.781  Standard Channel Pack   \n",
      "3                               0  2.846.575.342  Standard Channel Pack   \n",
      "4                    Volop Bellen  4.369.863.014  Standard Channel Pack   \n",
      "...                           ...            ...                    ...   \n",
      "2664  Volop Bellen Internationaal  4.356.164.384     Extra Channel Pack   \n",
      "2665                 Volop Bellen  1.117.534.247  Standard Channel Pack   \n",
      "2666                  Vast Bellen  1.103.013.699  Standard Channel Pack   \n",
      "2667                            0  4.621.917.808  Standard Channel Pack   \n",
      "2668                  Vast Bellen  2.465.753.425  Standard Channel Pack   \n",
      "\n",
      "      Sport,       PROVINCE MDiff_CATV_INSTALLATION_DATE  \\\n",
      "0         0,        Utrecht                           41   \n",
      "1         0,  Noord-Brabant                          119   \n",
      "2         0,        Limburg                          162   \n",
      "3         0,        Limburg                           66   \n",
      "4         0,        Limburg                           85   \n",
      "...      ...            ...                          ...   \n",
      "2664      0,     Gelderland                           85   \n",
      "2665      0,  Noord-Brabant                          166   \n",
      "2666      1,        Limburg                          165   \n",
      "2667      0,  Noord-Brabant                           88   \n",
      "2668      0,  Noord-Holland                           62   \n",
      "\n",
      "      MDiff_DTV_INSTALLATION_DATE  MDiff_INTERNET_INSTALLATION_DATE  \n",
      "0                              42                                42  \n",
      "1                             119                               119  \n",
      "2                             162                               162  \n",
      "3                              67                                67  \n",
      "4                              85                                85  \n",
      "...                           ...                               ...  \n",
      "2664                           85                                85  \n",
      "2665                          166                               166  \n",
      "2666                          165                               165  \n",
      "2667                           87                                87  \n",
      "2668                           62                                62  \n",
      "\n",
      "[2669 rows x 36 columns]\n"
     ]
    }
   ],
   "source": [
    "print(maxdiff_model) #drop churn_risk/tenure\n",
    "# do not use S3_Recode/churn_risk in modeling\n",
    "# use churn risk/S3_recode for present\n",
    "# convert some to numbers for certain models to work\n",
    "# tree structure being robust/boosting/random forest\n",
    "\n",
    "# age/gender split/country/favoriate channels/cables&tele?\n",
    "# drop community/city/original tenure/orginal salutation/all julian dates\n",
    "\n",
    "# try different metrics -> better than random\n",
    "# for each kind of labels, how the respondents within the label look like?\n",
    "\n",
    "# model -> how good can we do than random?\n",
    "# presentation -> "
   ]
  },
  {
   "cell_type": "code",
   "execution_count": 33,
   "id": "bcde10a5",
   "metadata": {},
   "outputs": [],
   "source": [
    "maxdiff_model.to_excel('Cleaned_MaxDiff_Model_Data.xlsx', index=False)"
   ]
  },
  {
   "cell_type": "code",
   "execution_count": null,
   "id": "c975ee86-3d3e-4edc-bb11-ea0e22d06e5c",
   "metadata": {},
   "outputs": [],
   "source": []
  },
  {
   "cell_type": "code",
   "execution_count": null,
   "id": "025bb26c-2714-40ef-a864-8bc6b13d3c92",
   "metadata": {},
   "outputs": [],
   "source": []
  },
  {
   "cell_type": "code",
   "execution_count": null,
   "id": "a0f6537d-1dd0-4e6d-bb34-38f799e0ed83",
   "metadata": {},
   "outputs": [],
   "source": []
  }
 ],
 "metadata": {
  "kernelspec": {
   "display_name": "Python 3 (ipykernel)",
   "language": "python",
   "name": "python3"
  },
  "language_info": {
   "codemirror_mode": {
    "name": "ipython",
    "version": 3
   },
   "file_extension": ".py",
   "mimetype": "text/x-python",
   "name": "python",
   "nbconvert_exporter": "python",
   "pygments_lexer": "ipython3",
   "version": "3.10.13"
  }
 },
 "nbformat": 4,
 "nbformat_minor": 5
}
