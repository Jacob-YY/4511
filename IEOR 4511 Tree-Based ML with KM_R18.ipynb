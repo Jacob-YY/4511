{
 "cells": [
  {
   "cell_type": "code",
   "execution_count": 192,
   "id": "0c328ee6-a0d1-4f86-8b41-4874eca6fcf5",
   "metadata": {},
   "outputs": [],
   "source": [
    "#drop churn_risk/tenure\n",
    "# do not use S3_Recode/churn_risk in modeling\n",
    "# use churn risk/S3_recode for present\n",
    "# convert some to numbers for certain models to work\n",
    "# tree structure being robust/boosting/random forest\n",
    "\n",
    "# age/gender split/country/favoriate channels/cables&tele?\n",
    "# drop community/city/original tenure/orginal salutation/all julian dates\n",
    "\n",
    "# try different metrics -> better than random\n",
    "# for each kind of labels, how the respondents within the label look like?\n",
    "\n",
    "# model -> how good can we do than random?\n",
    "# presentation -> "
   ]
  },
  {
   "cell_type": "code",
   "execution_count": 61,
   "id": "9f388e31",
   "metadata": {},
   "outputs": [],
   "source": [
    "import pandas as pd\n",
    "import numpy as np\n",
    "import matplotlib.pyplot as plt \n",
    "import seaborn as sns \n",
    "%matplotlib inline\n",
    "\n",
    "#df = pd.read_excel('probability_matrix_Partition Around Medoids_6.xlsx')\n",
    "#df = pd.read_excel('probability_matrix_K-Means_R40_6.xlsx')\n",
    "df = pd.read_excel('probability_matrix_K-Means_R18_6.xlsx')\n",
    "data = pd.read_excel('Cleaned_MaxDiff_Model_Data.xlsx')"
   ]
  },
  {
   "cell_type": "code",
   "execution_count": 62,
   "id": "ea45c67b",
   "metadata": {},
   "outputs": [
    {
     "data": {
      "text/html": [
       "<div>\n",
       "<style scoped>\n",
       "    .dataframe tbody tr th:only-of-type {\n",
       "        vertical-align: middle;\n",
       "    }\n",
       "\n",
       "    .dataframe tbody tr th {\n",
       "        vertical-align: top;\n",
       "    }\n",
       "\n",
       "    .dataframe thead th {\n",
       "        text-align: right;\n",
       "    }\n",
       "</style>\n",
       "<table border=\"1\" class=\"dataframe\">\n",
       "  <thead>\n",
       "    <tr style=\"text-align: right;\">\n",
       "      <th></th>\n",
       "      <th>Respondent</th>\n",
       "      <th>Q1</th>\n",
       "      <th>Q2</th>\n",
       "      <th>Q3</th>\n",
       "      <th>Q4</th>\n",
       "      <th>Q5</th>\n",
       "      <th>Q6</th>\n",
       "      <th>Q7</th>\n",
       "      <th>Q8</th>\n",
       "      <th>Q9</th>\n",
       "      <th>...</th>\n",
       "      <th>Q22</th>\n",
       "      <th>Q23</th>\n",
       "      <th>Q24</th>\n",
       "      <th>Q25</th>\n",
       "      <th>Q26</th>\n",
       "      <th>Q27</th>\n",
       "      <th>Q28</th>\n",
       "      <th>Q29</th>\n",
       "      <th>Q30</th>\n",
       "      <th>cluster</th>\n",
       "    </tr>\n",
       "  </thead>\n",
       "  <tbody>\n",
       "  </tbody>\n",
       "</table>\n",
       "<p>0 rows × 32 columns</p>\n",
       "</div>"
      ],
      "text/plain": [
       "Empty DataFrame\n",
       "Columns: [Respondent, Q1, Q2, Q3, Q4, Q5, Q6, Q7, Q8, Q9, Q10, Q11, Q12, Q13, Q14, Q15, Q16, Q17, Q18, Q19, Q20, Q21, Q22, Q23, Q24, Q25, Q26, Q27, Q28, Q29, Q30, cluster]\n",
       "Index: []\n",
       "\n",
       "[0 rows x 32 columns]"
      ]
     },
     "execution_count": 62,
     "metadata": {},
     "output_type": "execute_result"
    }
   ],
   "source": [
    "df[df['Respondent']==3]\n",
    "df[df['Respondent']==104]\n",
    "df[df['Respondent']==1577]"
   ]
  },
  {
   "cell_type": "code",
   "execution_count": 63,
   "id": "0019eadf",
   "metadata": {},
   "outputs": [
    {
     "data": {
      "text/plain": [
       "cluster\n",
       "1     177\n",
       "2     566\n",
       "3     133\n",
       "4    1391\n",
       "5     326\n",
       "6      73\n",
       "Name: Respondent, dtype: int64"
      ]
     },
     "execution_count": 63,
     "metadata": {},
     "output_type": "execute_result"
    }
   ],
   "source": [
    "df.groupby('cluster')['Respondent'].count()"
   ]
  },
  {
   "cell_type": "code",
   "execution_count": 64,
   "id": "31390018",
   "metadata": {},
   "outputs": [],
   "source": [
    "Respondent_list = []\n",
    "for i in range(1,2670):\n",
    "    Respondent_list.append(i)"
   ]
  },
  {
   "cell_type": "code",
   "execution_count": 65,
   "id": "e9386c2d",
   "metadata": {},
   "outputs": [],
   "source": [
    "data['Respondent']=Respondent_list"
   ]
  },
  {
   "cell_type": "code",
   "execution_count": 66,
   "id": "33257308",
   "metadata": {},
   "outputs": [],
   "source": [
    "respondent_ids_to_drop = [3, 104, 1577]\n",
    "\n",
    "data = data[~data['Respondent'].isin(respondent_ids_to_drop)]"
   ]
  },
  {
   "cell_type": "code",
   "execution_count": 67,
   "id": "09a923a3",
   "metadata": {},
   "outputs": [
    {
     "data": {
      "text/html": [
       "<div>\n",
       "<style scoped>\n",
       "    .dataframe tbody tr th:only-of-type {\n",
       "        vertical-align: middle;\n",
       "    }\n",
       "\n",
       "    .dataframe tbody tr th {\n",
       "        vertical-align: top;\n",
       "    }\n",
       "\n",
       "    .dataframe thead th {\n",
       "        text-align: right;\n",
       "    }\n",
       "</style>\n",
       "<table border=\"1\" class=\"dataframe\">\n",
       "  <thead>\n",
       "    <tr style=\"text-align: right;\">\n",
       "      <th></th>\n",
       "      <th>Respondent</th>\n",
       "      <th>S3_Recode</th>\n",
       "      <th>Churn_risk</th>\n",
       "      <th>CommercialProductName</th>\n",
       "      <th>ConvergedStatus</th>\n",
       "      <th>DTV_TIER_OPTION_NAME</th>\n",
       "      <th>Film1</th>\n",
       "      <th>FixedVoicePlan</th>\n",
       "      <th>FoxSportEDL</th>\n",
       "      <th>FoxSportINT</th>\n",
       "      <th>...</th>\n",
       "      <th>TELEPHONY_TIER_OPTION_NAME</th>\n",
       "      <th>TVContentPack</th>\n",
       "      <th>Sport</th>\n",
       "      <th>Trimmed_Tenure</th>\n",
       "      <th>New_Salutation</th>\n",
       "      <th>PROVINCE</th>\n",
       "      <th>MDiff_CATV_INSTALLATION_DATE</th>\n",
       "      <th>MDiff_DTV_INSTALLATION_DATE</th>\n",
       "      <th>MDiff_INTERNET_INSTALLATION_DATE</th>\n",
       "      <th>MDiff_TELEPHONY_INSTALLATION_DATE</th>\n",
       "    </tr>\n",
       "  </thead>\n",
       "  <tbody>\n",
       "  </tbody>\n",
       "</table>\n",
       "<p>0 rows × 34 columns</p>\n",
       "</div>"
      ],
      "text/plain": [
       "Empty DataFrame\n",
       "Columns: [Respondent, S3_Recode, Churn_risk, CommercialProductName, ConvergedStatus, DTV_TIER_OPTION_NAME, Film1, FixedVoicePlan, FoxSportEDL, FoxSportINT, HasCATV, HasDTV, HasINT, HasTEL, INTERNET_TIER_OPTION_NAME, InternetSecurityType, IntSecurity_Benefit, Kids_Benefit, MediaBoxType, MoviesSeriesL, MoviesSeriesStd, MoviesSeriesXL, MSL_Benefit, PlayLevel, TELEPHONY_TIER_OPTION_NAME, TVContentPack, Sport, Trimmed_Tenure, New_Salutation, PROVINCE, MDiff_CATV_INSTALLATION_DATE, MDiff_DTV_INSTALLATION_DATE, MDiff_INTERNET_INSTALLATION_DATE, MDiff_TELEPHONY_INSTALLATION_DATE]\n",
       "Index: []\n",
       "\n",
       "[0 rows x 34 columns]"
      ]
     },
     "execution_count": 67,
     "metadata": {},
     "output_type": "execute_result"
    }
   ],
   "source": [
    "data[data['Respondent']==3]\n",
    "data[data['Respondent']==104]\n",
    "data[data['Respondent']==1577]"
   ]
  },
  {
   "cell_type": "markdown",
   "id": "4d320609",
   "metadata": {},
   "source": [
    "Manually figured out and changed the values of “provinces not found” in Provinces."
   ]
  },
  {
   "cell_type": "code",
   "execution_count": 68,
   "id": "ccd16e7a-acdf-4ecd-b52d-849e0099bfc1",
   "metadata": {},
   "outputs": [
    {
     "name": "stdout",
     "output_type": "stream",
     "text": [
      "PROVINCE\n",
      "Drenthe           99\n",
      "Flevoland         24\n",
      "Fryslân           96\n",
      "Gelderland       301\n",
      "Groningen         92\n",
      "Limburg          331\n",
      "Noord-Brabant    488\n",
      "Noord-Holland    442\n",
      "Overijssel       158\n",
      "Utrecht          171\n",
      "Zuid-Holland     464\n",
      "dtype: int64\n"
     ]
    }
   ],
   "source": [
    "data.loc[data['PROVINCE'] == 'Frysl??n','PROVINCE'] = 'Friesland'\n",
    "grouped = data.groupby(['PROVINCE'])\n",
    "count_per_name = grouped.size()\n",
    "print(count_per_name)"
   ]
  },
  {
   "cell_type": "code",
   "execution_count": 69,
   "id": "7d2e10ba-5fc2-4045-bd2e-3fb772105895",
   "metadata": {},
   "outputs": [
    {
     "name": "stdout",
     "output_type": "stream",
     "text": [
      "S3_Recode\n",
      "HIGH RISK      1315\n",
      "LIGHT RISK      351\n",
      "MEDIUM RISK    1000\n",
      "dtype: int64\n"
     ]
    }
   ],
   "source": [
    "data.loc[data['S3_Recode'] == 'LOYAL & LIGHT RISK','S3_Recode'] = 'LIGHT RISK'\n",
    "grouped = data.groupby(['S3_Recode'])\n",
    "count_per_name = grouped.size()\n",
    "print(count_per_name)"
   ]
  },
  {
   "cell_type": "code",
   "execution_count": 70,
   "id": "02291601-3796-4768-9316-4c60138e46d5",
   "metadata": {},
   "outputs": [
    {
     "name": "stdout",
     "output_type": "stream",
     "text": [
      "ConvergedStatus\n",
      "0    1430\n",
      "1    1236\n",
      "dtype: int64\n"
     ]
    }
   ],
   "source": [
    "data.loc[data['ConvergedStatus'] == 'Converged','ConvergedStatus'] = '1'\n",
    "data.loc[data['ConvergedStatus'] == 'Not Converged','ConvergedStatus'] = '0'\n",
    "grouped = data.groupby(['ConvergedStatus'])\n",
    "count_per_name = grouped.size()\n",
    "print(count_per_name)"
   ]
  },
  {
   "cell_type": "code",
   "execution_count": 71,
   "id": "0016e66b-fb70-4f17-9c05-9d4be9fd0007",
   "metadata": {},
   "outputs": [
    {
     "name": "stdout",
     "output_type": "stream",
     "text": [
      "New_Salutation\n",
      "Mr.        1990\n",
      "Mr./Ms.      84\n",
      "Ms.         592\n",
      "dtype: int64\n"
     ]
    }
   ],
   "source": [
    "data.loc[data['New_Salutation'] == 'Unknown','New_Salutation'] = 'Mr./Ms.'\n",
    "grouped = data.groupby(['New_Salutation'])\n",
    "count_per_name = grouped.size()\n",
    "print(count_per_name)"
   ]
  },
  {
   "cell_type": "code",
   "execution_count": 72,
   "id": "adc5a375",
   "metadata": {},
   "outputs": [
    {
     "data": {
      "text/html": [
       "<div>\n",
       "<style scoped>\n",
       "    .dataframe tbody tr th:only-of-type {\n",
       "        vertical-align: middle;\n",
       "    }\n",
       "\n",
       "    .dataframe tbody tr th {\n",
       "        vertical-align: top;\n",
       "    }\n",
       "\n",
       "    .dataframe thead th {\n",
       "        text-align: right;\n",
       "    }\n",
       "</style>\n",
       "<table border=\"1\" class=\"dataframe\">\n",
       "  <thead>\n",
       "    <tr style=\"text-align: right;\">\n",
       "      <th></th>\n",
       "      <th>S3_Recode</th>\n",
       "      <th>Churn_risk</th>\n",
       "      <th>DTV_TIER_OPTION_NAME</th>\n",
       "      <th>CommercialProductName</th>\n",
       "      <th>INTERNET_TIER_OPTION_NAME</th>\n",
       "      <th>InternetSecurityType</th>\n",
       "      <th>MediaBoxType</th>\n",
       "      <th>TVContentPack</th>\n",
       "      <th>PlayLevel</th>\n",
       "      <th>TELEPHONY_TIER_OPTION_NAME</th>\n",
       "      <th>FixedVoicePlan</th>\n",
       "    </tr>\n",
       "  </thead>\n",
       "  <tbody>\n",
       "    <tr>\n",
       "      <th>0</th>\n",
       "      <td>MEDIUM RISK</td>\n",
       "      <td>high</td>\n",
       "      <td>Extra Channel Pack No Horizon</td>\n",
       "      <td>Internet Complete &amp; TV Start (2P)</td>\n",
       "      <td>250 / 25 MBPS</td>\n",
       "      <td>SAFE ONLINE</td>\n",
       "      <td>MEDIABOX</td>\n",
       "      <td>Extra Channel Pack</td>\n",
       "      <td>TV + INT</td>\n",
       "      <td>0</td>\n",
       "      <td>0</td>\n",
       "    </tr>\n",
       "    <tr>\n",
       "      <th>1</th>\n",
       "      <td>MEDIUM RISK</td>\n",
       "      <td>mid</td>\n",
       "      <td>Extra Channel Pack Horizon</td>\n",
       "      <td>Internet Complete &amp; TV Max (2P)</td>\n",
       "      <td>250 / 25 MBPS</td>\n",
       "      <td>SAFE ONLINE</td>\n",
       "      <td>MEDIABOX XL</td>\n",
       "      <td>Extra Channel Pack</td>\n",
       "      <td>TV + INT</td>\n",
       "      <td>0</td>\n",
       "      <td>0</td>\n",
       "    </tr>\n",
       "    <tr>\n",
       "      <th>3</th>\n",
       "      <td>LIGHT RISK</td>\n",
       "      <td>high</td>\n",
       "      <td>Standard Channel Pack No Horizon</td>\n",
       "      <td>Internet Start &amp; TV Start (2P)</td>\n",
       "      <td>50 / 5 MBPS</td>\n",
       "      <td>SAFE ONLINE XL</td>\n",
       "      <td>MEDIABOX</td>\n",
       "      <td>Standard Channel Pack</td>\n",
       "      <td>TV + INT</td>\n",
       "      <td>0</td>\n",
       "      <td>0</td>\n",
       "    </tr>\n",
       "    <tr>\n",
       "      <th>4</th>\n",
       "      <td>LIGHT RISK</td>\n",
       "      <td>low</td>\n",
       "      <td>Standard Channel Pack No Horizon</td>\n",
       "      <td>Internet Complete &amp; TV Start</td>\n",
       "      <td>250 / 25 MBPS</td>\n",
       "      <td>SAFE ONLINE XL</td>\n",
       "      <td>0</td>\n",
       "      <td>Standard Channel Pack</td>\n",
       "      <td>TV + INT + TEL</td>\n",
       "      <td>Volop Bellen</td>\n",
       "      <td>Volop Bellen</td>\n",
       "    </tr>\n",
       "    <tr>\n",
       "      <th>5</th>\n",
       "      <td>MEDIUM RISK</td>\n",
       "      <td>low</td>\n",
       "      <td>Standard Channel Pack No Horizon</td>\n",
       "      <td>Internet Start &amp; TV Complete Next</td>\n",
       "      <td>50 / 5 MBPS</td>\n",
       "      <td>SAFE ONLINE XL</td>\n",
       "      <td>MEDIABOX NEXT</td>\n",
       "      <td>Standard Channel Pack</td>\n",
       "      <td>TV + INT + TEL</td>\n",
       "      <td>Vast Bellen</td>\n",
       "      <td>Vast Bellen</td>\n",
       "    </tr>\n",
       "    <tr>\n",
       "      <th>...</th>\n",
       "      <td>...</td>\n",
       "      <td>...</td>\n",
       "      <td>...</td>\n",
       "      <td>...</td>\n",
       "      <td>...</td>\n",
       "      <td>...</td>\n",
       "      <td>...</td>\n",
       "      <td>...</td>\n",
       "      <td>...</td>\n",
       "      <td>...</td>\n",
       "      <td>...</td>\n",
       "    </tr>\n",
       "    <tr>\n",
       "      <th>2664</th>\n",
       "      <td>LIGHT RISK</td>\n",
       "      <td>high</td>\n",
       "      <td>Extra Channel Pack No Horizon</td>\n",
       "      <td>Internet Complete &amp; TV Start</td>\n",
       "      <td>250 / 25 MBPS</td>\n",
       "      <td>SAFE ONLINE</td>\n",
       "      <td>MEDIABOX</td>\n",
       "      <td>Extra Channel Pack</td>\n",
       "      <td>TV + INT + TEL</td>\n",
       "      <td>Volop Bellen Internationaal</td>\n",
       "      <td>Volop Bellen Internationaal</td>\n",
       "    </tr>\n",
       "    <tr>\n",
       "      <th>2665</th>\n",
       "      <td>MEDIUM RISK</td>\n",
       "      <td>low</td>\n",
       "      <td>Standard Channel Pack No Horizon</td>\n",
       "      <td>Internet Start &amp; TV Start</td>\n",
       "      <td>50 / 5 MBPS</td>\n",
       "      <td>SAFE ONLINE XL</td>\n",
       "      <td>MEDIABOX</td>\n",
       "      <td>Standard Channel Pack</td>\n",
       "      <td>TV + INT + TEL</td>\n",
       "      <td>Volop Bellen</td>\n",
       "      <td>Volop Bellen</td>\n",
       "    </tr>\n",
       "    <tr>\n",
       "      <th>2666</th>\n",
       "      <td>MEDIUM RISK</td>\n",
       "      <td>low</td>\n",
       "      <td>Standard Channel Pack No Horizon</td>\n",
       "      <td>Internet Complete &amp; TV Complete Next</td>\n",
       "      <td>250 / 25 MBPS</td>\n",
       "      <td>SAFE ONLINE XL</td>\n",
       "      <td>MEDIABOX NEXT</td>\n",
       "      <td>Standard Channel Pack</td>\n",
       "      <td>TV + INT + TEL</td>\n",
       "      <td>Vast Bellen</td>\n",
       "      <td>Vast Bellen</td>\n",
       "    </tr>\n",
       "    <tr>\n",
       "      <th>2667</th>\n",
       "      <td>LIGHT RISK</td>\n",
       "      <td>high</td>\n",
       "      <td>Standard Channel Pack Horizon</td>\n",
       "      <td>Internet Start &amp; TV Complete (2P)</td>\n",
       "      <td>50 / 5 MBPS</td>\n",
       "      <td>SAFE ONLINE</td>\n",
       "      <td>MEDIABOX XL</td>\n",
       "      <td>Standard Channel Pack</td>\n",
       "      <td>TV + INT</td>\n",
       "      <td>0</td>\n",
       "      <td>0</td>\n",
       "    </tr>\n",
       "    <tr>\n",
       "      <th>2668</th>\n",
       "      <td>HIGH RISK</td>\n",
       "      <td>low</td>\n",
       "      <td>Standard Channel Pack No Horizon</td>\n",
       "      <td>Internet Complete &amp; TV Complete Next</td>\n",
       "      <td>250 / 25 MBPS</td>\n",
       "      <td>SAFE ONLINE XL</td>\n",
       "      <td>MEDIABOX NEXT</td>\n",
       "      <td>Standard Channel Pack</td>\n",
       "      <td>TV + INT + TEL</td>\n",
       "      <td>Vast Bellen</td>\n",
       "      <td>Vast Bellen</td>\n",
       "    </tr>\n",
       "  </tbody>\n",
       "</table>\n",
       "<p>2666 rows × 11 columns</p>\n",
       "</div>"
      ],
      "text/plain": [
       "        S3_Recode Churn_risk              DTV_TIER_OPTION_NAME  \\\n",
       "0     MEDIUM RISK       high     Extra Channel Pack No Horizon   \n",
       "1     MEDIUM RISK        mid        Extra Channel Pack Horizon   \n",
       "3      LIGHT RISK       high  Standard Channel Pack No Horizon   \n",
       "4      LIGHT RISK        low  Standard Channel Pack No Horizon   \n",
       "5     MEDIUM RISK        low  Standard Channel Pack No Horizon   \n",
       "...           ...        ...                               ...   \n",
       "2664   LIGHT RISK       high     Extra Channel Pack No Horizon   \n",
       "2665  MEDIUM RISK        low  Standard Channel Pack No Horizon   \n",
       "2666  MEDIUM RISK        low  Standard Channel Pack No Horizon   \n",
       "2667   LIGHT RISK       high     Standard Channel Pack Horizon   \n",
       "2668    HIGH RISK        low  Standard Channel Pack No Horizon   \n",
       "\n",
       "                     CommercialProductName INTERNET_TIER_OPTION_NAME  \\\n",
       "0        Internet Complete & TV Start (2P)             250 / 25 MBPS   \n",
       "1          Internet Complete & TV Max (2P)             250 / 25 MBPS   \n",
       "3           Internet Start & TV Start (2P)               50 / 5 MBPS   \n",
       "4             Internet Complete & TV Start             250 / 25 MBPS   \n",
       "5        Internet Start & TV Complete Next               50 / 5 MBPS   \n",
       "...                                    ...                       ...   \n",
       "2664          Internet Complete & TV Start             250 / 25 MBPS   \n",
       "2665             Internet Start & TV Start               50 / 5 MBPS   \n",
       "2666  Internet Complete & TV Complete Next             250 / 25 MBPS   \n",
       "2667     Internet Start & TV Complete (2P)               50 / 5 MBPS   \n",
       "2668  Internet Complete & TV Complete Next             250 / 25 MBPS   \n",
       "\n",
       "     InternetSecurityType   MediaBoxType          TVContentPack  \\\n",
       "0             SAFE ONLINE       MEDIABOX     Extra Channel Pack   \n",
       "1             SAFE ONLINE    MEDIABOX XL     Extra Channel Pack   \n",
       "3          SAFE ONLINE XL       MEDIABOX  Standard Channel Pack   \n",
       "4          SAFE ONLINE XL              0  Standard Channel Pack   \n",
       "5          SAFE ONLINE XL  MEDIABOX NEXT  Standard Channel Pack   \n",
       "...                   ...            ...                    ...   \n",
       "2664          SAFE ONLINE       MEDIABOX     Extra Channel Pack   \n",
       "2665       SAFE ONLINE XL       MEDIABOX  Standard Channel Pack   \n",
       "2666       SAFE ONLINE XL  MEDIABOX NEXT  Standard Channel Pack   \n",
       "2667          SAFE ONLINE    MEDIABOX XL  Standard Channel Pack   \n",
       "2668       SAFE ONLINE XL  MEDIABOX NEXT  Standard Channel Pack   \n",
       "\n",
       "           PlayLevel   TELEPHONY_TIER_OPTION_NAME               FixedVoicePlan  \n",
       "0           TV + INT                            0                            0  \n",
       "1           TV + INT                            0                            0  \n",
       "3           TV + INT                            0                            0  \n",
       "4     TV + INT + TEL                 Volop Bellen                 Volop Bellen  \n",
       "5     TV + INT + TEL                  Vast Bellen                  Vast Bellen  \n",
       "...              ...                          ...                          ...  \n",
       "2664  TV + INT + TEL  Volop Bellen Internationaal  Volop Bellen Internationaal  \n",
       "2665  TV + INT + TEL                 Volop Bellen                 Volop Bellen  \n",
       "2666  TV + INT + TEL                  Vast Bellen                  Vast Bellen  \n",
       "2667        TV + INT                            0                            0  \n",
       "2668  TV + INT + TEL                  Vast Bellen                  Vast Bellen  \n",
       "\n",
       "[2666 rows x 11 columns]"
      ]
     },
     "execution_count": 72,
     "metadata": {},
     "output_type": "execute_result"
    }
   ],
   "source": [
    "data[['S3_Recode','Churn_risk','DTV_TIER_OPTION_NAME','CommercialProductName',\n",
    "      'INTERNET_TIER_OPTION_NAME','InternetSecurityType','MediaBoxType','TVContentPack',\n",
    "      'PlayLevel','TELEPHONY_TIER_OPTION_NAME','FixedVoicePlan']]"
   ]
  },
  {
   "cell_type": "code",
   "execution_count": 73,
   "id": "b6d8ec51",
   "metadata": {},
   "outputs": [],
   "source": [
    "data=data.drop(['Respondent','S3_Recode','Churn_risk','DTV_TIER_OPTION_NAME','CommercialProductName',\n",
    "      'INTERNET_TIER_OPTION_NAME','InternetSecurityType','MediaBoxType','TVContentPack',\n",
    "      'PlayLevel','TELEPHONY_TIER_OPTION_NAME','FixedVoicePlan'], axis=1)"
   ]
  },
  {
   "cell_type": "code",
   "execution_count": 74,
   "id": "6ded55a0",
   "metadata": {},
   "outputs": [
    {
     "data": {
      "text/html": [
       "<div>\n",
       "<style scoped>\n",
       "    .dataframe tbody tr th:only-of-type {\n",
       "        vertical-align: middle;\n",
       "    }\n",
       "\n",
       "    .dataframe tbody tr th {\n",
       "        vertical-align: top;\n",
       "    }\n",
       "\n",
       "    .dataframe thead th {\n",
       "        text-align: right;\n",
       "    }\n",
       "</style>\n",
       "<table border=\"1\" class=\"dataframe\">\n",
       "  <thead>\n",
       "    <tr style=\"text-align: right;\">\n",
       "      <th></th>\n",
       "      <th>ConvergedStatus</th>\n",
       "      <th>Film1</th>\n",
       "      <th>FoxSportEDL</th>\n",
       "      <th>FoxSportINT</th>\n",
       "      <th>HasCATV</th>\n",
       "      <th>HasDTV</th>\n",
       "      <th>HasINT</th>\n",
       "      <th>HasTEL</th>\n",
       "      <th>IntSecurity_Benefit</th>\n",
       "      <th>Kids_Benefit</th>\n",
       "      <th>...</th>\n",
       "      <th>MoviesSeriesXL</th>\n",
       "      <th>MSL_Benefit</th>\n",
       "      <th>Sport</th>\n",
       "      <th>Trimmed_Tenure</th>\n",
       "      <th>New_Salutation</th>\n",
       "      <th>PROVINCE</th>\n",
       "      <th>MDiff_CATV_INSTALLATION_DATE</th>\n",
       "      <th>MDiff_DTV_INSTALLATION_DATE</th>\n",
       "      <th>MDiff_INTERNET_INSTALLATION_DATE</th>\n",
       "      <th>MDiff_TELEPHONY_INSTALLATION_DATE</th>\n",
       "    </tr>\n",
       "  </thead>\n",
       "  <tbody>\n",
       "    <tr>\n",
       "      <th>0</th>\n",
       "      <td>0</td>\n",
       "      <td>0</td>\n",
       "      <td>0</td>\n",
       "      <td>0</td>\n",
       "      <td>1</td>\n",
       "      <td>1</td>\n",
       "      <td>1</td>\n",
       "      <td>0</td>\n",
       "      <td>0</td>\n",
       "      <td>0</td>\n",
       "      <td>...</td>\n",
       "      <td>1</td>\n",
       "      <td>0</td>\n",
       "      <td>0</td>\n",
       "      <td>0.789</td>\n",
       "      <td>Mr.</td>\n",
       "      <td>Utrecht</td>\n",
       "      <td>42</td>\n",
       "      <td>43</td>\n",
       "      <td>43</td>\n",
       "      <td>1488</td>\n",
       "    </tr>\n",
       "    <tr>\n",
       "      <th>1</th>\n",
       "      <td>0</td>\n",
       "      <td>0</td>\n",
       "      <td>0</td>\n",
       "      <td>0</td>\n",
       "      <td>1</td>\n",
       "      <td>1</td>\n",
       "      <td>1</td>\n",
       "      <td>0</td>\n",
       "      <td>0</td>\n",
       "      <td>0</td>\n",
       "      <td>...</td>\n",
       "      <td>1</td>\n",
       "      <td>0</td>\n",
       "      <td>0</td>\n",
       "      <td>7.210</td>\n",
       "      <td>Ms.</td>\n",
       "      <td>Noord-Brabant</td>\n",
       "      <td>120</td>\n",
       "      <td>120</td>\n",
       "      <td>120</td>\n",
       "      <td>120</td>\n",
       "    </tr>\n",
       "    <tr>\n",
       "      <th>3</th>\n",
       "      <td>1</td>\n",
       "      <td>0</td>\n",
       "      <td>0</td>\n",
       "      <td>0</td>\n",
       "      <td>1</td>\n",
       "      <td>1</td>\n",
       "      <td>1</td>\n",
       "      <td>0</td>\n",
       "      <td>1</td>\n",
       "      <td>0</td>\n",
       "      <td>...</td>\n",
       "      <td>0</td>\n",
       "      <td>1</td>\n",
       "      <td>0</td>\n",
       "      <td>2.846</td>\n",
       "      <td>Mr.</td>\n",
       "      <td>Limburg</td>\n",
       "      <td>67</td>\n",
       "      <td>68</td>\n",
       "      <td>68</td>\n",
       "      <td>1488</td>\n",
       "    </tr>\n",
       "    <tr>\n",
       "      <th>4</th>\n",
       "      <td>1</td>\n",
       "      <td>0</td>\n",
       "      <td>0</td>\n",
       "      <td>0</td>\n",
       "      <td>1</td>\n",
       "      <td>1</td>\n",
       "      <td>1</td>\n",
       "      <td>1</td>\n",
       "      <td>1</td>\n",
       "      <td>0</td>\n",
       "      <td>...</td>\n",
       "      <td>0</td>\n",
       "      <td>1</td>\n",
       "      <td>0</td>\n",
       "      <td>4.369</td>\n",
       "      <td>Mr.</td>\n",
       "      <td>Limburg</td>\n",
       "      <td>86</td>\n",
       "      <td>86</td>\n",
       "      <td>86</td>\n",
       "      <td>86</td>\n",
       "    </tr>\n",
       "    <tr>\n",
       "      <th>5</th>\n",
       "      <td>1</td>\n",
       "      <td>0</td>\n",
       "      <td>1</td>\n",
       "      <td>0</td>\n",
       "      <td>1</td>\n",
       "      <td>1</td>\n",
       "      <td>1</td>\n",
       "      <td>1</td>\n",
       "      <td>1</td>\n",
       "      <td>0</td>\n",
       "      <td>...</td>\n",
       "      <td>0</td>\n",
       "      <td>0</td>\n",
       "      <td>1</td>\n",
       "      <td>6.517</td>\n",
       "      <td>Mr.</td>\n",
       "      <td>Limburg</td>\n",
       "      <td>112</td>\n",
       "      <td>112</td>\n",
       "      <td>112</td>\n",
       "      <td>112</td>\n",
       "    </tr>\n",
       "    <tr>\n",
       "      <th>...</th>\n",
       "      <td>...</td>\n",
       "      <td>...</td>\n",
       "      <td>...</td>\n",
       "      <td>...</td>\n",
       "      <td>...</td>\n",
       "      <td>...</td>\n",
       "      <td>...</td>\n",
       "      <td>...</td>\n",
       "      <td>...</td>\n",
       "      <td>...</td>\n",
       "      <td>...</td>\n",
       "      <td>...</td>\n",
       "      <td>...</td>\n",
       "      <td>...</td>\n",
       "      <td>...</td>\n",
       "      <td>...</td>\n",
       "      <td>...</td>\n",
       "      <td>...</td>\n",
       "      <td>...</td>\n",
       "      <td>...</td>\n",
       "      <td>...</td>\n",
       "    </tr>\n",
       "    <tr>\n",
       "      <th>2664</th>\n",
       "      <td>0</td>\n",
       "      <td>0</td>\n",
       "      <td>0</td>\n",
       "      <td>0</td>\n",
       "      <td>1</td>\n",
       "      <td>1</td>\n",
       "      <td>1</td>\n",
       "      <td>1</td>\n",
       "      <td>0</td>\n",
       "      <td>0</td>\n",
       "      <td>...</td>\n",
       "      <td>1</td>\n",
       "      <td>0</td>\n",
       "      <td>0</td>\n",
       "      <td>4.356</td>\n",
       "      <td>Mr./Ms.</td>\n",
       "      <td>Gelderland</td>\n",
       "      <td>86</td>\n",
       "      <td>86</td>\n",
       "      <td>86</td>\n",
       "      <td>86</td>\n",
       "    </tr>\n",
       "    <tr>\n",
       "      <th>2665</th>\n",
       "      <td>1</td>\n",
       "      <td>0</td>\n",
       "      <td>0</td>\n",
       "      <td>0</td>\n",
       "      <td>1</td>\n",
       "      <td>1</td>\n",
       "      <td>1</td>\n",
       "      <td>1</td>\n",
       "      <td>1</td>\n",
       "      <td>0</td>\n",
       "      <td>...</td>\n",
       "      <td>0</td>\n",
       "      <td>1</td>\n",
       "      <td>0</td>\n",
       "      <td>1.117</td>\n",
       "      <td>Mr.</td>\n",
       "      <td>Noord-Brabant</td>\n",
       "      <td>167</td>\n",
       "      <td>167</td>\n",
       "      <td>167</td>\n",
       "      <td>167</td>\n",
       "    </tr>\n",
       "    <tr>\n",
       "      <th>2666</th>\n",
       "      <td>1</td>\n",
       "      <td>0</td>\n",
       "      <td>0</td>\n",
       "      <td>0</td>\n",
       "      <td>1</td>\n",
       "      <td>1</td>\n",
       "      <td>1</td>\n",
       "      <td>1</td>\n",
       "      <td>1</td>\n",
       "      <td>0</td>\n",
       "      <td>...</td>\n",
       "      <td>0</td>\n",
       "      <td>0</td>\n",
       "      <td>1</td>\n",
       "      <td>1.103</td>\n",
       "      <td>Mr.</td>\n",
       "      <td>Limburg</td>\n",
       "      <td>166</td>\n",
       "      <td>166</td>\n",
       "      <td>166</td>\n",
       "      <td>166</td>\n",
       "    </tr>\n",
       "    <tr>\n",
       "      <th>2667</th>\n",
       "      <td>0</td>\n",
       "      <td>0</td>\n",
       "      <td>0</td>\n",
       "      <td>0</td>\n",
       "      <td>1</td>\n",
       "      <td>1</td>\n",
       "      <td>1</td>\n",
       "      <td>0</td>\n",
       "      <td>0</td>\n",
       "      <td>0</td>\n",
       "      <td>...</td>\n",
       "      <td>0</td>\n",
       "      <td>0</td>\n",
       "      <td>0</td>\n",
       "      <td>4.621</td>\n",
       "      <td>Mr.</td>\n",
       "      <td>Noord-Brabant</td>\n",
       "      <td>89</td>\n",
       "      <td>88</td>\n",
       "      <td>88</td>\n",
       "      <td>1488</td>\n",
       "    </tr>\n",
       "    <tr>\n",
       "      <th>2668</th>\n",
       "      <td>1</td>\n",
       "      <td>0</td>\n",
       "      <td>0</td>\n",
       "      <td>0</td>\n",
       "      <td>1</td>\n",
       "      <td>1</td>\n",
       "      <td>1</td>\n",
       "      <td>1</td>\n",
       "      <td>1</td>\n",
       "      <td>0</td>\n",
       "      <td>...</td>\n",
       "      <td>0</td>\n",
       "      <td>1</td>\n",
       "      <td>0</td>\n",
       "      <td>2.465</td>\n",
       "      <td>Ms.</td>\n",
       "      <td>Noord-Holland</td>\n",
       "      <td>63</td>\n",
       "      <td>63</td>\n",
       "      <td>63</td>\n",
       "      <td>63</td>\n",
       "    </tr>\n",
       "  </tbody>\n",
       "</table>\n",
       "<p>2666 rows × 22 columns</p>\n",
       "</div>"
      ],
      "text/plain": [
       "     ConvergedStatus  Film1  FoxSportEDL  FoxSportINT  HasCATV  HasDTV  \\\n",
       "0                  0      0            0            0        1       1   \n",
       "1                  0      0            0            0        1       1   \n",
       "3                  1      0            0            0        1       1   \n",
       "4                  1      0            0            0        1       1   \n",
       "5                  1      0            1            0        1       1   \n",
       "...              ...    ...          ...          ...      ...     ...   \n",
       "2664               0      0            0            0        1       1   \n",
       "2665               1      0            0            0        1       1   \n",
       "2666               1      0            0            0        1       1   \n",
       "2667               0      0            0            0        1       1   \n",
       "2668               1      0            0            0        1       1   \n",
       "\n",
       "      HasINT  HasTEL  IntSecurity_Benefit  Kids_Benefit  ...  MoviesSeriesXL  \\\n",
       "0          1       0                    0             0  ...               1   \n",
       "1          1       0                    0             0  ...               1   \n",
       "3          1       0                    1             0  ...               0   \n",
       "4          1       1                    1             0  ...               0   \n",
       "5          1       1                    1             0  ...               0   \n",
       "...      ...     ...                  ...           ...  ...             ...   \n",
       "2664       1       1                    0             0  ...               1   \n",
       "2665       1       1                    1             0  ...               0   \n",
       "2666       1       1                    1             0  ...               0   \n",
       "2667       1       0                    0             0  ...               0   \n",
       "2668       1       1                    1             0  ...               0   \n",
       "\n",
       "      MSL_Benefit  Sport  Trimmed_Tenure  New_Salutation       PROVINCE  \\\n",
       "0               0      0           0.789             Mr.        Utrecht   \n",
       "1               0      0           7.210             Ms.  Noord-Brabant   \n",
       "3               1      0           2.846             Mr.        Limburg   \n",
       "4               1      0           4.369             Mr.        Limburg   \n",
       "5               0      1           6.517             Mr.        Limburg   \n",
       "...           ...    ...             ...             ...            ...   \n",
       "2664            0      0           4.356         Mr./Ms.     Gelderland   \n",
       "2665            1      0           1.117             Mr.  Noord-Brabant   \n",
       "2666            0      1           1.103             Mr.        Limburg   \n",
       "2667            0      0           4.621             Mr.  Noord-Brabant   \n",
       "2668            1      0           2.465             Ms.  Noord-Holland   \n",
       "\n",
       "     MDiff_CATV_INSTALLATION_DATE MDiff_DTV_INSTALLATION_DATE  \\\n",
       "0                              42                          43   \n",
       "1                             120                         120   \n",
       "3                              67                          68   \n",
       "4                              86                          86   \n",
       "5                             112                         112   \n",
       "...                           ...                         ...   \n",
       "2664                           86                          86   \n",
       "2665                          167                         167   \n",
       "2666                          166                         166   \n",
       "2667                           89                          88   \n",
       "2668                           63                          63   \n",
       "\n",
       "      MDiff_INTERNET_INSTALLATION_DATE  MDiff_TELEPHONY_INSTALLATION_DATE  \n",
       "0                                   43                               1488  \n",
       "1                                  120                                120  \n",
       "3                                   68                               1488  \n",
       "4                                   86                                 86  \n",
       "5                                  112                                112  \n",
       "...                                ...                                ...  \n",
       "2664                                86                                 86  \n",
       "2665                               167                                167  \n",
       "2666                               166                                166  \n",
       "2667                                88                               1488  \n",
       "2668                                63                                 63  \n",
       "\n",
       "[2666 rows x 22 columns]"
      ]
     },
     "execution_count": 74,
     "metadata": {},
     "output_type": "execute_result"
    }
   ],
   "source": [
    "data"
   ]
  },
  {
   "cell_type": "code",
   "execution_count": 75,
   "id": "1c4ba36b",
   "metadata": {},
   "outputs": [
    {
     "data": {
      "text/plain": [
       "Index(['ConvergedStatus', 'Film1', 'FoxSportEDL', 'FoxSportINT', 'HasCATV',\n",
       "       'HasDTV', 'HasINT', 'HasTEL', 'IntSecurity_Benefit', 'Kids_Benefit',\n",
       "       'MoviesSeriesL', 'MoviesSeriesStd', 'MoviesSeriesXL', 'MSL_Benefit',\n",
       "       'Sport', 'Trimmed_Tenure', 'New_Salutation', 'PROVINCE',\n",
       "       'MDiff_CATV_INSTALLATION_DATE', 'MDiff_DTV_INSTALLATION_DATE',\n",
       "       'MDiff_INTERNET_INSTALLATION_DATE',\n",
       "       'MDiff_TELEPHONY_INSTALLATION_DATE'],\n",
       "      dtype='object')"
      ]
     },
     "execution_count": 75,
     "metadata": {},
     "output_type": "execute_result"
    }
   ],
   "source": [
    "data.columns"
   ]
  },
  {
   "cell_type": "code",
   "execution_count": 76,
   "id": "f7c17ee5",
   "metadata": {},
   "outputs": [],
   "source": [
    "df = df['cluster']"
   ]
  },
  {
   "cell_type": "code",
   "execution_count": 77,
   "id": "9b6d2fee",
   "metadata": {},
   "outputs": [
    {
     "data": {
      "text/plain": [
       "0       2\n",
       "1       4\n",
       "2       4\n",
       "3       4\n",
       "4       2\n",
       "       ..\n",
       "2661    2\n",
       "2662    4\n",
       "2663    4\n",
       "2664    2\n",
       "2665    4\n",
       "Name: cluster, Length: 2666, dtype: int64"
      ]
     },
     "execution_count": 77,
     "metadata": {},
     "output_type": "execute_result"
    }
   ],
   "source": [
    "df"
   ]
  },
  {
   "cell_type": "code",
   "execution_count": 78,
   "id": "a80e8734",
   "metadata": {},
   "outputs": [
    {
     "data": {
      "text/plain": [
       "5"
      ]
     },
     "execution_count": 78,
     "metadata": {},
     "output_type": "execute_result"
    }
   ],
   "source": [
    "data.isna().sum(axis=1).sum()"
   ]
  },
  {
   "cell_type": "code",
   "execution_count": 79,
   "id": "2895cc51",
   "metadata": {},
   "outputs": [
    {
     "data": {
      "text/plain": [
       "276    NaN\n",
       "1320   NaN\n",
       "1544   NaN\n",
       "2101   NaN\n",
       "2316   NaN\n",
       "Name: Trimmed_Tenure, dtype: float64"
      ]
     },
     "execution_count": 79,
     "metadata": {},
     "output_type": "execute_result"
    }
   ],
   "source": [
    "data[data.isna().any(axis=1)]['Trimmed_Tenure']"
   ]
  },
  {
   "cell_type": "code",
   "execution_count": 80,
   "id": "123e0b13",
   "metadata": {},
   "outputs": [],
   "source": [
    "data['Trimmed_Tenure'] = data['Trimmed_Tenure'].fillna(0)"
   ]
  },
  {
   "cell_type": "code",
   "execution_count": 81,
   "id": "fa423440",
   "metadata": {},
   "outputs": [
    {
     "data": {
      "text/plain": [
       "Series([], Name: Trimmed_Tenure, dtype: float64)"
      ]
     },
     "execution_count": 81,
     "metadata": {},
     "output_type": "execute_result"
    }
   ],
   "source": [
    "data[data.isna().any(axis=1)]['Trimmed_Tenure']"
   ]
  },
  {
   "cell_type": "code",
   "execution_count": 82,
   "id": "b081e476",
   "metadata": {},
   "outputs": [
    {
     "data": {
      "text/plain": [
       "0"
      ]
     },
     "execution_count": 82,
     "metadata": {},
     "output_type": "execute_result"
    }
   ],
   "source": [
    "data.isna().sum(axis=1).sum()"
   ]
  },
  {
   "cell_type": "code",
   "execution_count": 83,
   "id": "d4717754",
   "metadata": {},
   "outputs": [],
   "source": [
    "from sklearn.preprocessing import LabelEncoder\n",
    "from sklearn.model_selection import train_test_split\n",
    "from sklearn.ensemble import RandomForestClassifier\n",
    "from sklearn.metrics import classification_report, accuracy_score,confusion_matrix\n",
    "from xgboost import XGBClassifier\n",
    "import warnings"
   ]
  },
  {
   "cell_type": "code",
   "execution_count": 84,
   "id": "16dee085-bb16-472d-81a2-8bd3a5afd5be",
   "metadata": {},
   "outputs": [],
   "source": [
    "#LabelEncoder\n",
    "label = data.select_dtypes(include=['object', 'category']).columns\n",
    "label_encoders = {}\n",
    "for col in label:\n",
    "    le = LabelEncoder()\n",
    "    data[col] = le.fit_transform(data[col])\n",
    "    label_encoders[col] = le"
   ]
  },
  {
   "cell_type": "code",
   "execution_count": 85,
   "id": "a36cfbb6-6095-4e6c-8530-6576db0f50de",
   "metadata": {},
   "outputs": [
    {
     "data": {
      "text/plain": [
       "(2666, 22)"
      ]
     },
     "execution_count": 85,
     "metadata": {},
     "output_type": "execute_result"
    }
   ],
   "source": [
    "data.shape"
   ]
  },
  {
   "cell_type": "code",
   "execution_count": 86,
   "id": "bbad64b6-b64f-4914-b52d-274a3d09dc43",
   "metadata": {},
   "outputs": [
    {
     "data": {
      "text/plain": [
       "0.4625"
      ]
     },
     "execution_count": 86,
     "metadata": {},
     "output_type": "execute_result"
    }
   ],
   "source": [
    "#RandomForestClassifier\n",
    "X = data\n",
    "y = df\n",
    "\n",
    "X_train, X_test, y_train, y_test = train_test_split(X, y, test_size=0.3, random_state=42)\n",
    "\n",
    "rf = RandomForestClassifier(n_estimators=1000,random_state=42)\n",
    "rf.fit(X_train, y_train)\n",
    "\n",
    "y_pred = rf.predict(X_test)\n",
    "\n",
    "accuracy = accuracy_score(y_test, y_pred)\n",
    "\n",
    "accuracy"
   ]
  },
  {
   "cell_type": "code",
   "execution_count": 87,
   "id": "e203117b",
   "metadata": {},
   "outputs": [
    {
     "name": "stdout",
     "output_type": "stream",
     "text": [
      "Metrics using K-Means 18th Iteration\n",
      "Accuracy: 0.463  Precision: 0.365\n",
      "Recall: 0.463    F1: 0.393\n"
     ]
    }
   ],
   "source": [
    "from sklearn.metrics import precision_score, recall_score, f1_score\n",
    "accuracy = accuracy_score(y_test, y_pred)\n",
    "precision = precision_score(y_test, y_pred, average=\"weighted\")\n",
    "recall = recall_score(y_test, y_pred, average=\"weighted\")\n",
    "f1 = f1_score(y_test, y_pred, average=\"weighted\")\n",
    "print(\"Metrics using K-Means 18th Iteration\")\n",
    "print(\"Accuracy: \" + \"{:.3f}\".format(accuracy) + \"  Precision: \" + \"{:.3f}\".format(precision))\n",
    "print(\"Recall: \" + \"{:.3f}\".format(recall) + \"    F1: \" + \"{:.3f}\".format(f1))"
   ]
  },
  {
   "cell_type": "code",
   "execution_count": 88,
   "id": "61b1310e-f5ff-4f64-b2b3-fa0852a9113d",
   "metadata": {},
   "outputs": [
    {
     "name": "stdout",
     "output_type": "stream",
     "text": [
      "Confusion matrix\n",
      "\n",
      " [[  2   7   1  31   2   0]\n",
      " [  2  26   1 128   7   0]\n",
      " [  0   6   1  38   2   0]\n",
      " [  8  51   4 335  21   3]\n",
      " [  1  18   2  73   6   0]\n",
      " [  0   3   0  19   2   0]]\n"
     ]
    }
   ],
   "source": [
    "cm = confusion_matrix(y_test, y_pred)\n",
    "print('Confusion matrix\\n\\n', cm) \n",
    "# accuracy per segment\n",
    "# what problem is\n",
    "# reduce churn\n",
    "# data manipulation/data matrix - quickly go over\n",
    "# gender split/demographics/S3 Recode for churn/ - visualization\n",
    "# preferences for each segment - visualization/tell story\n",
    "# do better than randomness per segment\n",
    "\n",
    "# next step? survey a bit more to new customers/test the db \n",
    "# reasons why we use segmentation: we don't talk to every single person enough; \n",
    "# so clustering people together to find some similarities -> target people without too much information"
   ]
  },
  {
   "cell_type": "code",
   "execution_count": 89,
   "id": "c4b9753b-4e70-4178-96b0-7653be7f684d",
   "metadata": {},
   "outputs": [
    {
     "name": "stdout",
     "output_type": "stream",
     "text": [
      "              precision    recall  f1-score   support\n",
      "\n",
      "           1       0.15      0.05      0.07        43\n",
      "           2       0.23      0.16      0.19       164\n",
      "           3       0.11      0.02      0.04        47\n",
      "           4       0.54      0.79      0.64       422\n",
      "           5       0.15      0.06      0.09       100\n",
      "           6       0.00      0.00      0.00        24\n",
      "\n",
      "    accuracy                           0.46       800\n",
      "   macro avg       0.20      0.18      0.17       800\n",
      "weighted avg       0.36      0.46      0.39       800\n",
      "\n"
     ]
    }
   ],
   "source": [
    "print(classification_report(y_test, y_pred))"
   ]
  },
  {
   "cell_type": "code",
   "execution_count": null,
   "id": "ce3bc772-3ceb-45b2-96ec-f493acc3c9cf",
   "metadata": {},
   "outputs": [],
   "source": []
  },
  {
   "cell_type": "code",
   "execution_count": 90,
   "id": "55bff592-8043-4095-ab93-905833c764d4",
   "metadata": {},
   "outputs": [
    {
     "data": {
      "image/png": "[encoded data removed]",
      "text/plain": [
       "<Figure size 2000x1500 with 1 Axes>"
      ]
     },
     "metadata": {},
     "output_type": "display_data"
    }
   ],
   "source": [
    "#feature_importances\n",
    "feature_importances = rf.feature_importances_\n",
    "features = pd.DataFrame({'Feature': X_train.columns, 'Importance': feature_importances})\n",
    "features= features.sort_values(by='Importance', ascending=False)\n",
    "\n",
    "plt.figure(figsize=(20, 15))  \n",
    "plt.barh(features['Feature'], features['Importance'])  \n",
    "plt.xlabel('Importance')  \n",
    "plt.ylabel('Feature')  \n",
    "plt.title('Feature Importances in Random Forest')  \n",
    "plt.gca().invert_yaxis()  \n",
    "plt.show() # drop the last five to see if improving better"
   ]
  },
  {
   "cell_type": "code",
   "execution_count": 50,
   "id": "e181e94b-2036-4f11-9155-b4228f080abe",
   "metadata": {},
   "outputs": [
    {
     "data": {
      "text/plain": [
       "0.45875"
      ]
     },
     "execution_count": 50,
     "metadata": {},
     "output_type": "execute_result"
    }
   ],
   "source": [
    "# top16 RandomForestClassifier\n",
    "#features=features.head(17) \n",
    "top_features = features.head(16)['Feature'].values\n",
    "#top_features = features['Feature'].values\n",
    "X_train_top = X_train[top_features]\n",
    "X_test_top = X_test[top_features]\n",
    "\n",
    "rf_top = RandomForestClassifier(n_estimators=100,random_state=42)\n",
    "rf_top.fit(X_train_top, y_train)\n",
    "\n",
    "y_pred_top = rf_top.predict(X_test_top)\n",
    "accuracy_top = accuracy_score(y_test, y_pred_top)\n",
    "\n",
    "\n",
    "accuracy_top"
   ]
  },
  {
   "cell_type": "code",
   "execution_count": 31,
   "id": "774e7289",
   "metadata": {},
   "outputs": [],
   "source": [
    "features_val = features['Feature'].values"
   ]
  },
  {
   "cell_type": "code",
   "execution_count": 92,
   "id": "26cfd2ca",
   "metadata": {},
   "outputs": [
    {
     "data": {
      "text/plain": [
       "Text(0.5, 1.0, 'Random Forest using KM_R18')"
      ]
     },
     "execution_count": 92,
     "metadata": {},
     "output_type": "execute_result"
    },
    {
     "data": {
      "image/png": "[encoded data removed]",
      "text/plain": [
       "<Figure size 640x480 with 1 Axes>"
      ]
     },
     "metadata": {},
     "output_type": "display_data"
    }
   ],
   "source": [
    "warnings.filterwarnings(\"ignore\")\n",
    "\n",
    "features_val = features['Feature'].values\n",
    "accuracies = []\n",
    "\n",
    "for num_features in range(1, len(features_val) + 1):\n",
    "    current_features = features_val[:num_features]\n",
    "    X_train_top = X_train[current_features]\n",
    "    X_test_top = X_test[current_features]\n",
    "\n",
    "    rf_top = RandomForestClassifier(n_estimators=1000, random_state=42)\n",
    "    rf_top.fit(X_train_top, y_train)\n",
    "\n",
    "    y_pred_top = rf_top.predict(X_test_top)\n",
    "    accuracy_top = accuracy_score(y_test, y_pred_top)\n",
    "    accuracies.append(accuracy_top)\n",
    "\n",
    "# Plotting the results\n",
    "plt.plot(range(1, len(features_val) + 1), accuracies, marker='o')\n",
    "# Adding axis labels\n",
    "plt.xlabel('Number of Features')\n",
    "plt.ylabel('Accuracy')\n",
    "plt.title('Random Forest using KM_R18')\n",
    "#plt.xlabel"
   ]
  },
  {
   "cell_type": "code",
   "execution_count": 392,
   "id": "e07df502",
   "metadata": {},
   "outputs": [
    {
     "data": {
      "text/html": [
       "<div>\n",
       "<style scoped>\n",
       "    .dataframe tbody tr th:only-of-type {\n",
       "        vertical-align: middle;\n",
       "    }\n",
       "\n",
       "    .dataframe tbody tr th {\n",
       "        vertical-align: top;\n",
       "    }\n",
       "\n",
       "    .dataframe thead th {\n",
       "        text-align: right;\n",
       "    }\n",
       "</style>\n",
       "<table border=\"1\" class=\"dataframe\">\n",
       "  <thead>\n",
       "    <tr style=\"text-align: right;\">\n",
       "      <th></th>\n",
       "      <th>Feature</th>\n",
       "      <th>Importance</th>\n",
       "    </tr>\n",
       "  </thead>\n",
       "  <tbody>\n",
       "    <tr>\n",
       "      <th>15</th>\n",
       "      <td>Trimmed_Tenure</td>\n",
       "      <td>0.188177</td>\n",
       "    </tr>\n",
       "    <tr>\n",
       "      <th>17</th>\n",
       "      <td>PROVINCE</td>\n",
       "      <td>0.137375</td>\n",
       "    </tr>\n",
       "    <tr>\n",
       "      <th>20</th>\n",
       "      <td>MDiff_INTERNET_INSTALLATION_DATE</td>\n",
       "      <td>0.108951</td>\n",
       "    </tr>\n",
       "    <tr>\n",
       "      <th>19</th>\n",
       "      <td>MDiff_DTV_INSTALLATION_DATE</td>\n",
       "      <td>0.106308</td>\n",
       "    </tr>\n",
       "    <tr>\n",
       "      <th>18</th>\n",
       "      <td>MDiff_CATV_INSTALLATION_DATE</td>\n",
       "      <td>0.106126</td>\n",
       "    </tr>\n",
       "    <tr>\n",
       "      <th>21</th>\n",
       "      <td>MDiff_TELEPHONY_INSTALLATION_DATE</td>\n",
       "      <td>0.095908</td>\n",
       "    </tr>\n",
       "    <tr>\n",
       "      <th>11</th>\n",
       "      <td>MoviesSeriesStd</td>\n",
       "      <td>0.043559</td>\n",
       "    </tr>\n",
       "    <tr>\n",
       "      <th>16</th>\n",
       "      <td>New_Salutation</td>\n",
       "      <td>0.041885</td>\n",
       "    </tr>\n",
       "    <tr>\n",
       "      <th>12</th>\n",
       "      <td>MoviesSeriesXL</td>\n",
       "      <td>0.027187</td>\n",
       "    </tr>\n",
       "    <tr>\n",
       "      <th>7</th>\n",
       "      <td>HasTEL</td>\n",
       "      <td>0.023801</td>\n",
       "    </tr>\n",
       "    <tr>\n",
       "      <th>14</th>\n",
       "      <td>Sport</td>\n",
       "      <td>0.022502</td>\n",
       "    </tr>\n",
       "    <tr>\n",
       "      <th>2</th>\n",
       "      <td>FoxSportEDL</td>\n",
       "      <td>0.019607</td>\n",
       "    </tr>\n",
       "    <tr>\n",
       "      <th>8</th>\n",
       "      <td>IntSecurity_Benefit</td>\n",
       "      <td>0.017098</td>\n",
       "    </tr>\n",
       "    <tr>\n",
       "      <th>0</th>\n",
       "      <td>ConvergedStatus</td>\n",
       "      <td>0.016744</td>\n",
       "    </tr>\n",
       "    <tr>\n",
       "      <th>10</th>\n",
       "      <td>MoviesSeriesL</td>\n",
       "      <td>0.009334</td>\n",
       "    </tr>\n",
       "    <tr>\n",
       "      <th>13</th>\n",
       "      <td>MSL_Benefit</td>\n",
       "      <td>0.008230</td>\n",
       "    </tr>\n",
       "    <tr>\n",
       "      <th>1</th>\n",
       "      <td>Film1</td>\n",
       "      <td>0.008040</td>\n",
       "    </tr>\n",
       "    <tr>\n",
       "      <th>3</th>\n",
       "      <td>FoxSportINT</td>\n",
       "      <td>0.006007</td>\n",
       "    </tr>\n",
       "    <tr>\n",
       "      <th>9</th>\n",
       "      <td>Kids_Benefit</td>\n",
       "      <td>0.005330</td>\n",
       "    </tr>\n",
       "    <tr>\n",
       "      <th>5</th>\n",
       "      <td>HasDTV</td>\n",
       "      <td>0.004781</td>\n",
       "    </tr>\n",
       "    <tr>\n",
       "      <th>6</th>\n",
       "      <td>HasINT</td>\n",
       "      <td>0.002313</td>\n",
       "    </tr>\n",
       "    <tr>\n",
       "      <th>4</th>\n",
       "      <td>HasCATV</td>\n",
       "      <td>0.000739</td>\n",
       "    </tr>\n",
       "  </tbody>\n",
       "</table>\n",
       "</div>"
      ],
      "text/plain": [
       "                              Feature  Importance\n",
       "15                     Trimmed_Tenure    0.188177\n",
       "17                           PROVINCE    0.137375\n",
       "20   MDiff_INTERNET_INSTALLATION_DATE    0.108951\n",
       "19        MDiff_DTV_INSTALLATION_DATE    0.106308\n",
       "18       MDiff_CATV_INSTALLATION_DATE    0.106126\n",
       "21  MDiff_TELEPHONY_INSTALLATION_DATE    0.095908\n",
       "11                    MoviesSeriesStd    0.043559\n",
       "16                     New_Salutation    0.041885\n",
       "12                     MoviesSeriesXL    0.027187\n",
       "7                              HasTEL    0.023801\n",
       "14                              Sport    0.022502\n",
       "2                         FoxSportEDL    0.019607\n",
       "8                 IntSecurity_Benefit    0.017098\n",
       "0                     ConvergedStatus    0.016744\n",
       "10                      MoviesSeriesL    0.009334\n",
       "13                        MSL_Benefit    0.008230\n",
       "1                               Film1    0.008040\n",
       "3                         FoxSportINT    0.006007\n",
       "9                        Kids_Benefit    0.005330\n",
       "5                              HasDTV    0.004781\n",
       "6                              HasINT    0.002313\n",
       "4                             HasCATV    0.000739"
      ]
     },
     "execution_count": 392,
     "metadata": {},
     "output_type": "execute_result"
    }
   ],
   "source": [
    "features"
   ]
  },
  {
   "cell_type": "code",
   "execution_count": 322,
   "id": "01de6c7c",
   "metadata": {},
   "outputs": [],
   "source": [
    "data = data.drop(['MoviesSeriesL','MSL_Benefit','Film1','FoxSportINT',\n",
    "                  'Kids_Benefit','HasDTV','HasINT','HasCATV'],\n",
    "                axis=1)"
   ]
  },
  {
   "cell_type": "code",
   "execution_count": 272,
   "id": "ed7e0414",
   "metadata": {},
   "outputs": [
    {
     "data": {
      "text/plain": [
       "(2666, 14)"
      ]
     },
     "execution_count": 272,
     "metadata": {},
     "output_type": "execute_result"
    }
   ],
   "source": [
    "#LabelEncoder\n",
    "label = data.select_dtypes(include=['object', 'category']).columns\n",
    "label_encoders = {}\n",
    "for col in label:\n",
    "    le = LabelEncoder()\n",
    "    data[col] = le.fit_transform(data[col])\n",
    "    label_encoders[col] = le\n",
    "data.shape"
   ]
  },
  {
   "cell_type": "code",
   "execution_count": 273,
   "id": "845e4b4f",
   "metadata": {},
   "outputs": [
    {
     "name": "stderr",
     "output_type": "stream",
     "text": [
      "/opt/anaconda3/lib/python3.9/site-packages/sklearn/utils/validation.py:623: FutureWarning: is_sparse is deprecated and will be removed in a future version. Check `isinstance(dtype, pd.SparseDtype)` instead.\n",
      "  if not hasattr(array, \"sparse\") and array.dtypes.apply(is_sparse).any():\n",
      "/opt/anaconda3/lib/python3.9/site-packages/sklearn/utils/validation.py:623: FutureWarning: is_sparse is deprecated and will be removed in a future version. Check `isinstance(dtype, pd.SparseDtype)` instead.\n",
      "  if not hasattr(array, \"sparse\") and array.dtypes.apply(is_sparse).any():\n"
     ]
    },
    {
     "data": {
      "text/plain": [
       "0.4625"
      ]
     },
     "execution_count": 273,
     "metadata": {},
     "output_type": "execute_result"
    }
   ],
   "source": [
    "#RandomForestClassifier\n",
    "X = data\n",
    "y = df\n",
    "\n",
    "X_train, X_test, y_train, y_test = train_test_split(X, y, test_size=0.3, random_state=42)\n",
    "\n",
    "rf = RandomForestClassifier(n_estimators=100,random_state=42)\n",
    "rf.fit(X_train, y_train)\n",
    "\n",
    "y_pred = rf.predict(X_test)\n",
    "\n",
    "accuracy = accuracy_score(y_test, y_pred)\n",
    "\n",
    "accuracy"
   ]
  },
  {
   "cell_type": "code",
   "execution_count": 274,
   "id": "4c1b4e5b",
   "metadata": {},
   "outputs": [
    {
     "data": {
      "image/png": "[encoded data removed]",
      "text/plain": [
       "<Figure size 2000x1500 with 1 Axes>"
      ]
     },
     "metadata": {},
     "output_type": "display_data"
    }
   ],
   "source": [
    "#feature_importances\n",
    "feature_importances = rf.feature_importances_\n",
    "features = pd.DataFrame({'Feature': X_train.columns, 'Importance': feature_importances})\n",
    "features= features.sort_values(by='Importance', ascending=False)\n",
    "\n",
    "plt.figure(figsize=(20, 15))  \n",
    "plt.barh(features['Feature'], features['Importance'])  \n",
    "plt.xlabel('Importance')  \n",
    "plt.ylabel('Feature')  \n",
    "plt.title('Feature Importances in Random Forest')  \n",
    "plt.gca().invert_yaxis()  \n",
    "plt.show() # drop the last five to see if improving better"
   ]
  },
  {
   "cell_type": "code",
   "execution_count": 146,
   "id": "27aefb9a-7f96-4561-a313-0fe88c9679d3",
   "metadata": {},
   "outputs": [
    {
     "name": "stdout",
     "output_type": "stream",
     "text": [
      "Confusion matrix\n",
      "\n",
      " [[134  56]\n",
      " [  8 602]]\n"
     ]
    }
   ],
   "source": [
    "cm = confusion_matrix(y_test, y_pred_top)\n",
    "print('Confusion matrix\\n\\n', cm)"
   ]
  },
  {
   "cell_type": "code",
   "execution_count": 147,
   "id": "a6f75fe8-1cee-4067-b320-94a961368c93",
   "metadata": {},
   "outputs": [
    {
     "name": "stdout",
     "output_type": "stream",
     "text": [
      "              precision    recall  f1-score   support\n",
      "\n",
      "           0       0.94      0.71      0.81       190\n",
      "           1       0.91      0.99      0.95       610\n",
      "\n",
      "    accuracy                           0.92       800\n",
      "   macro avg       0.93      0.85      0.88       800\n",
      "weighted avg       0.92      0.92      0.92       800\n",
      "\n"
     ]
    }
   ],
   "source": [
    "print(classification_report(y_test, y_pred_top))"
   ]
  },
  {
   "cell_type": "code",
   "execution_count": 52,
   "id": "4ac558e7-bd26-4d97-a17b-1e98bbe46e0d",
   "metadata": {},
   "outputs": [
    {
     "data": {
      "text/plain": [
       "0.40625"
      ]
     },
     "execution_count": 52,
     "metadata": {},
     "output_type": "execute_result"
    }
   ],
   "source": [
    "# XGBOOST\n",
    "X = data\n",
    "y = df-1 # XGBoost requires Cluster ID starting from 0\n",
    "\n",
    "X_train, X_test, y_train, y_test = train_test_split(X, y, test_size=0.3, random_state=42)\n",
    "\n",
    "\n",
    "xgb_model = XGBClassifier(n_estimators=1000,random_state=42)\n",
    "\n",
    "xgb_model.fit(X_train, y_train)\n",
    "\n",
    "y_pred = xgb_model.predict(X_test)\n",
    "\n",
    "accuracy = accuracy_score(y_test, y_pred)\n",
    "\n",
    "accuracy\n"
   ]
  },
  {
   "cell_type": "code",
   "execution_count": 53,
   "id": "bc6f2d03-6ca3-4f57-b9f0-f3aed214dbea",
   "metadata": {},
   "outputs": [
    {
     "data": {
      "image/png": "[encoded data removed]",
      "text/plain": [
       "<Figure size 2000x1500 with 1 Axes>"
      ]
     },
     "metadata": {},
     "output_type": "display_data"
    }
   ],
   "source": [
    "feature_importances = xgb_model.feature_importances_\n",
    "\n",
    "features = pd.DataFrame({'Feature': X_train.columns, 'Importance': feature_importances})\n",
    "features= features.sort_values(by='Importance', ascending=False)\n",
    "\n",
    "plt.figure(figsize=(20, 15))  \n",
    "plt.barh(features['Feature'], features['Importance'])  \n",
    "plt.xlabel('Importance')  \n",
    "plt.ylabel('Feature')  \n",
    "plt.title('Feature Importances in XGBOOST')  \n",
    "plt.gca().invert_yaxis()  \n",
    "plt.show()\n"
   ]
  },
  {
   "cell_type": "code",
   "execution_count": 60,
   "id": "a1409c4e-4709-499d-b2a9-ede7c8b16e7d",
   "metadata": {},
   "outputs": [
    {
     "data": {
      "text/plain": [
       "0.4575"
      ]
     },
     "execution_count": 60,
     "metadata": {},
     "output_type": "execute_result"
    }
   ],
   "source": [
    "# XGBOOST top\n",
    "#features=features.head(7) \n",
    "top_features = features.head(6)['Feature'].values\n",
    "X_train_top = X_train[top_features]\n",
    "X_test_top = X_test[top_features]\n",
    "\n",
    "xgb_top = XGBClassifier(n_estimators=100,random_state=42)\n",
    "xgb_top.fit(X_train_top, y_train)\n",
    "\n",
    "y_pred_top = xgb_top.predict(X_test_top)\n",
    "accuracy_top = accuracy_score(y_test, y_pred_top)\n",
    "\n",
    "\n",
    "accuracy_top"
   ]
  },
  {
   "cell_type": "code",
   "execution_count": 151,
   "id": "54ccc257-9eeb-40c9-890f-58b0282de0ec",
   "metadata": {},
   "outputs": [
    {
     "data": {
      "image/png": "[encoded data removed]",
      "text/plain": [
       "<Figure size 640x480 with 1 Axes>"
      ]
     },
     "metadata": {},
     "output_type": "display_data"
    }
   ],
   "source": [
    "from sklearn.metrics import roc_curve, auc\n",
    "(fpr, tpr, thresholds) = roc_curve(y_test,y_pred)\n",
    "\n",
    "area = auc(fpr,tpr)\n",
    "plt.clf() \n",
    "plt.plot(fpr,tpr,label=\"ROC Curve with area = %1.2f\"%area)\n",
    "\n",
    "plt.plot([0, 1], [0, 1], 'k') \n",
    "plt.xlim([0.0, 1.0])\n",
    "plt.ylim([0.0, 1.0])\n",
    "plt.xlabel('FP Rate')\n",
    "plt.ylabel('TP Rate')\n",
    "plt.title('ROC')\n",
    "plt.legend(loc=\"lower right\")\n",
    "plt.show()"
   ]
  },
  {
   "cell_type": "code",
   "execution_count": null,
   "id": "3a994ccf-11a6-47ed-9597-9e33996f16b4",
   "metadata": {},
   "outputs": [],
   "source": []
  },
  {
   "cell_type": "code",
   "execution_count": null,
   "id": "f9635767-997a-4c6e-8d18-b043312e7e24",
   "metadata": {},
   "outputs": [],
   "source": []
  },
  {
   "cell_type": "code",
   "execution_count": 152,
   "id": "687c161d-9cf2-49ec-9a61-9661a9b1e269",
   "metadata": {},
   "outputs": [
    {
     "name": "stderr",
     "output_type": "stream",
     "text": [
      "/opt/anaconda3/lib/python3.9/site-packages/sklearn/utils/validation.py:623: FutureWarning: is_sparse is deprecated and will be removed in a future version. Check `isinstance(dtype, pd.SparseDtype)` instead.\n",
      "  if not hasattr(array, \"sparse\") and array.dtypes.apply(is_sparse).any():\n",
      "/opt/anaconda3/lib/python3.9/site-packages/sklearn/utils/validation.py:623: FutureWarning: is_sparse is deprecated and will be removed in a future version. Check `isinstance(dtype, pd.SparseDtype)` instead.\n",
      "  if not hasattr(array, \"sparse\") and array.dtypes.apply(is_sparse).any():\n"
     ]
    },
    {
     "data": {
      "text/plain": [
       "0.9275"
      ]
     },
     "execution_count": 152,
     "metadata": {},
     "output_type": "execute_result"
    }
   ],
   "source": [
    "from sklearn.linear_model import LogisticRegression\n",
    "\n",
    "X_train, X_test, y_train, y_test = train_test_split(X, y, test_size=0.3, random_state=42)\n",
    "\n",
    "lr = LogisticRegression(max_iter=10000, random_state=42)\n",
    "\n",
    "lr.fit(X_train, y_train)\n",
    "\n",
    "y_pred = lr.predict(X_test)\n",
    "\n",
    "accuracy = accuracy_score(y_test, y_pred)\n",
    "\n",
    "accuracy"
   ]
  },
  {
   "cell_type": "code",
   "execution_count": null,
   "id": "86d2d693-208e-4ca0-9ffb-16e2aace12f4",
   "metadata": {},
   "outputs": [],
   "source": []
  },
  {
   "cell_type": "code",
   "execution_count": null,
   "id": "b243fc6e",
   "metadata": {},
   "outputs": [],
   "source": []
  }
 ],
 "metadata": {
  "kernelspec": {
   "display_name": "Python 3 (ipykernel)",
   "language": "python",
   "name": "python3"
  },
  "language_info": {
   "codemirror_mode": {
    "name": "ipython",
    "version": 3
   },
   "file_extension": ".py",
   "mimetype": "text/x-python",
   "name": "python",
   "nbconvert_exporter": "python",
   "pygments_lexer": "ipython3",
   "version": "3.9.13"
  }
 },
 "nbformat": 4,
 "nbformat_minor": 5
}
