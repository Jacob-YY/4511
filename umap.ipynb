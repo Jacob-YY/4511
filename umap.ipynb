{
 "cells": [
  {
   "cell_type": "code",
   "execution_count": 1,
   "id": "ea695be6",
   "metadata": {},
   "outputs": [
    {
     "data": {
      "text/html": [
       "<div>\n",
       "<style scoped>\n",
       "    .dataframe tbody tr th:only-of-type {\n",
       "        vertical-align: middle;\n",
       "    }\n",
       "\n",
       "    .dataframe tbody tr th {\n",
       "        vertical-align: top;\n",
       "    }\n",
       "\n",
       "    .dataframe thead th {\n",
       "        text-align: right;\n",
       "    }\n",
       "</style>\n",
       "<table border=\"1\" class=\"dataframe\">\n",
       "  <thead>\n",
       "    <tr style=\"text-align: right;\">\n",
       "      <th></th>\n",
       "      <th>Q1</th>\n",
       "      <th>Q2</th>\n",
       "      <th>Q3</th>\n",
       "      <th>Q4</th>\n",
       "      <th>Q5</th>\n",
       "      <th>Q6</th>\n",
       "      <th>Q7</th>\n",
       "      <th>Q8</th>\n",
       "      <th>Q9</th>\n",
       "      <th>Q10</th>\n",
       "      <th>...</th>\n",
       "      <th>Q21</th>\n",
       "      <th>Q22</th>\n",
       "      <th>Q23</th>\n",
       "      <th>Q24</th>\n",
       "      <th>Q25</th>\n",
       "      <th>Q26</th>\n",
       "      <th>Q27</th>\n",
       "      <th>Q28</th>\n",
       "      <th>Q29</th>\n",
       "      <th>Q30</th>\n",
       "    </tr>\n",
       "  </thead>\n",
       "  <tbody>\n",
       "    <tr>\n",
       "      <th>0</th>\n",
       "      <td>4.098044e-09</td>\n",
       "      <td>9.446476e-07</td>\n",
       "      <td>2.902420e-15</td>\n",
       "      <td>4.432403e-16</td>\n",
       "      <td>3.294941e-15</td>\n",
       "      <td>1.853705e-14</td>\n",
       "      <td>7.260848e-15</td>\n",
       "      <td>4.260201e-15</td>\n",
       "      <td>8.452581e-15</td>\n",
       "      <td>1.775263e-15</td>\n",
       "      <td>...</td>\n",
       "      <td>4.574823e-16</td>\n",
       "      <td>6.642302e+01</td>\n",
       "      <td>4.306083e-15</td>\n",
       "      <td>2.856543e-15</td>\n",
       "      <td>1.999806e-30</td>\n",
       "      <td>4.260201e-15</td>\n",
       "      <td>3.918144e-22</td>\n",
       "      <td>2.091106e-07</td>\n",
       "      <td>8.989060e-16</td>\n",
       "      <td>2.114047e-14</td>\n",
       "    </tr>\n",
       "    <tr>\n",
       "      <th>1</th>\n",
       "      <td>1.054714e-28</td>\n",
       "      <td>8.808165e-21</td>\n",
       "      <td>5.862951e-21</td>\n",
       "      <td>2.196646e-28</td>\n",
       "      <td>1.077912e-19</td>\n",
       "      <td>1.114585e-14</td>\n",
       "      <td>2.001274e-20</td>\n",
       "      <td>3.809701e-20</td>\n",
       "      <td>1.403695e-27</td>\n",
       "      <td>3.198242e-28</td>\n",
       "      <td>...</td>\n",
       "      <td>1.320542e-46</td>\n",
       "      <td>2.658420e-12</td>\n",
       "      <td>2.755048e-29</td>\n",
       "      <td>6.677862e-37</td>\n",
       "      <td>4.397757e-37</td>\n",
       "      <td>1.955609e-22</td>\n",
       "      <td>1.846757e-11</td>\n",
       "      <td>8.351947e-07</td>\n",
       "      <td>5.167566e-28</td>\n",
       "      <td>1.489721e-22</td>\n",
       "    </tr>\n",
       "    <tr>\n",
       "      <th>2</th>\n",
       "      <td>4.774094e+00</td>\n",
       "      <td>2.895635e+00</td>\n",
       "      <td>2.895635e+00</td>\n",
       "      <td>4.774094e+00</td>\n",
       "      <td>7.871151e+00</td>\n",
       "      <td>2.895635e+00</td>\n",
       "      <td>4.774094e+00</td>\n",
       "      <td>7.871151e+00</td>\n",
       "      <td>1.756291e+00</td>\n",
       "      <td>1.756291e+00</td>\n",
       "      <td>...</td>\n",
       "      <td>7.871151e+00</td>\n",
       "      <td>2.895635e+00</td>\n",
       "      <td>2.895635e+00</td>\n",
       "      <td>2.895635e+00</td>\n",
       "      <td>2.895635e+00</td>\n",
       "      <td>2.895635e+00</td>\n",
       "      <td>2.895635e+00</td>\n",
       "      <td>2.895635e+00</td>\n",
       "      <td>1.065244e+00</td>\n",
       "      <td>2.895635e+00</td>\n",
       "    </tr>\n",
       "    <tr>\n",
       "      <th>3</th>\n",
       "      <td>1.691274e-24</td>\n",
       "      <td>6.579706e-23</td>\n",
       "      <td>7.992828e-32</td>\n",
       "      <td>1.481517e-22</td>\n",
       "      <td>3.535274e-23</td>\n",
       "      <td>4.802951e-45</td>\n",
       "      <td>7.134378e-09</td>\n",
       "      <td>2.058859e-37</td>\n",
       "      <td>8.356808e-07</td>\n",
       "      <td>4.802951e-45</td>\n",
       "      <td>...</td>\n",
       "      <td>1.775386e-30</td>\n",
       "      <td>1.762839e-29</td>\n",
       "      <td>2.812372e-21</td>\n",
       "      <td>1.092078e-16</td>\n",
       "      <td>6.970354e-22</td>\n",
       "      <td>1.017668e-19</td>\n",
       "      <td>1.686165e-15</td>\n",
       "      <td>3.888851e-38</td>\n",
       "      <td>5.173421e-13</td>\n",
       "      <td>1.396211e-28</td>\n",
       "    </tr>\n",
       "    <tr>\n",
       "      <th>4</th>\n",
       "      <td>4.905370e-61</td>\n",
       "      <td>1.692663e-42</td>\n",
       "      <td>1.343972e-26</td>\n",
       "      <td>2.304852e-36</td>\n",
       "      <td>6.428694e-45</td>\n",
       "      <td>2.273306e-44</td>\n",
       "      <td>1.005808e-52</td>\n",
       "      <td>1.459681e-44</td>\n",
       "      <td>2.473954e-37</td>\n",
       "      <td>1.754390e-35</td>\n",
       "      <td>...</td>\n",
       "      <td>1.723173e-27</td>\n",
       "      <td>3.756380e-27</td>\n",
       "      <td>2.450414e-29</td>\n",
       "      <td>7.199524e-22</td>\n",
       "      <td>9.300981e-61</td>\n",
       "      <td>4.668098e-36</td>\n",
       "      <td>1.700625e-27</td>\n",
       "      <td>1.887086e-35</td>\n",
       "      <td>2.536725e-44</td>\n",
       "      <td>1.000000e+02</td>\n",
       "    </tr>\n",
       "  </tbody>\n",
       "</table>\n",
       "<p>5 rows × 30 columns</p>\n",
       "</div>"
      ],
      "text/plain": [
       "             Q1            Q2            Q3            Q4            Q5  \\\n",
       "0  4.098044e-09  9.446476e-07  2.902420e-15  4.432403e-16  3.294941e-15   \n",
       "1  1.054714e-28  8.808165e-21  5.862951e-21  2.196646e-28  1.077912e-19   \n",
       "2  4.774094e+00  2.895635e+00  2.895635e+00  4.774094e+00  7.871151e+00   \n",
       "3  1.691274e-24  6.579706e-23  7.992828e-32  1.481517e-22  3.535274e-23   \n",
       "4  4.905370e-61  1.692663e-42  1.343972e-26  2.304852e-36  6.428694e-45   \n",
       "\n",
       "             Q6            Q7            Q8            Q9           Q10  ...  \\\n",
       "0  1.853705e-14  7.260848e-15  4.260201e-15  8.452581e-15  1.775263e-15  ...   \n",
       "1  1.114585e-14  2.001274e-20  3.809701e-20  1.403695e-27  3.198242e-28  ...   \n",
       "2  2.895635e+00  4.774094e+00  7.871151e+00  1.756291e+00  1.756291e+00  ...   \n",
       "3  4.802951e-45  7.134378e-09  2.058859e-37  8.356808e-07  4.802951e-45  ...   \n",
       "4  2.273306e-44  1.005808e-52  1.459681e-44  2.473954e-37  1.754390e-35  ...   \n",
       "\n",
       "            Q21           Q22           Q23           Q24           Q25  \\\n",
       "0  4.574823e-16  6.642302e+01  4.306083e-15  2.856543e-15  1.999806e-30   \n",
       "1  1.320542e-46  2.658420e-12  2.755048e-29  6.677862e-37  4.397757e-37   \n",
       "2  7.871151e+00  2.895635e+00  2.895635e+00  2.895635e+00  2.895635e+00   \n",
       "3  1.775386e-30  1.762839e-29  2.812372e-21  1.092078e-16  6.970354e-22   \n",
       "4  1.723173e-27  3.756380e-27  2.450414e-29  7.199524e-22  9.300981e-61   \n",
       "\n",
       "            Q26           Q27           Q28           Q29           Q30  \n",
       "0  4.260201e-15  3.918144e-22  2.091106e-07  8.989060e-16  2.114047e-14  \n",
       "1  1.955609e-22  1.846757e-11  8.351947e-07  5.167566e-28  1.489721e-22  \n",
       "2  2.895635e+00  2.895635e+00  2.895635e+00  1.065244e+00  2.895635e+00  \n",
       "3  1.017668e-19  1.686165e-15  3.888851e-38  5.173421e-13  1.396211e-28  \n",
       "4  4.668098e-36  1.700625e-27  1.887086e-35  2.536725e-44  1.000000e+02  \n",
       "\n",
       "[5 rows x 30 columns]"
      ]
     },
     "execution_count": 1,
     "metadata": {},
     "output_type": "execute_result"
    }
   ],
   "source": [
    "import pandas as pd\n",
    "\n",
    "data = pd.read_csv('probability_matrix.csv')\n",
    "\n",
    "data.head()\n"
   ]
  },
  {
   "cell_type": "code",
   "execution_count": 5,
   "id": "4d081047",
   "metadata": {
    "scrolled": true
   },
   "outputs": [
    {
     "name": "stderr",
     "output_type": "stream",
     "text": [
      "/Users/yangyanhua/opt/anaconda3/lib/python3.9/site-packages/umap/umap_.py:1943: UserWarning: n_jobs value -1 overridden to 1 by setting random_state. Use no seed for parallelism.\n",
      "  warn(f\"n_jobs value {self.n_jobs} overridden to 1 by setting random_state. Use no seed for parallelism.\")\n"
     ]
    }
   ],
   "source": [
    "from umap import UMAP\n",
    "from sklearn.cluster import KMeans\n",
    "import matplotlib.pyplot as plt\n",
    "\n",
    "umap_model = UMAP(n_neighbors=15, min_dist=0.1, n_components=2, random_state=42)\n",
    "reduced_data = umap_model.fit_transform(data)"
   ]
  },
  {
   "cell_type": "code",
   "execution_count": 8,
   "id": "d63c7295",
   "metadata": {},
   "outputs": [
    {
     "data": {
      "text/plain": [
       "(2669, 2)"
      ]
     },
     "execution_count": 8,
     "metadata": {},
     "output_type": "execute_result"
    }
   ],
   "source": [
    "reduced_data.shape"
   ]
  },
  {
   "cell_type": "code",
   "execution_count": 9,
   "id": "122170ec",
   "metadata": {},
   "outputs": [
    {
     "data": {
      "text/plain": [
       "array([[ -1.034306  ,  -0.32631233],\n",
       "       [ -9.935308  ,  -7.1729674 ],\n",
       "       [ -0.2586261 ,   1.2252561 ],\n",
       "       ...,\n",
       "       [ 11.941817  ,  -9.860804  ],\n",
       "       [  3.4772174 , -14.120584  ],\n",
       "       [  1.1305943 ,  -1.1147017 ]], dtype=float32)"
      ]
     },
     "execution_count": 9,
     "metadata": {},
     "output_type": "execute_result"
    }
   ],
   "source": [
    "reduced_data"
   ]
  },
  {
   "cell_type": "code",
   "execution_count": 11,
   "id": "1f47cccd",
   "metadata": {},
   "outputs": [
    {
     "data": {
      "image/png": "[encoded data removed]",
      "text/plain": [
       "<Figure size 432x288 with 1 Axes>"
      ]
     },
     "metadata": {
      "needs_background": "light"
     },
     "output_type": "display_data"
    }
   ],
   "source": [
    "import matplotlib.pyplot as plt\n",
    "plt.scatter(reduced_data[:,0], reduced_data[:, 1])\n",
    "plt.show()"
   ]
  },
  {
   "cell_type": "code",
   "execution_count": 22,
   "id": "0fe6d59e",
   "metadata": {},
   "outputs": [
    {
     "data": {
      "image/png": "[encoded data removed]",
      "text/plain": [
       "<Figure size 432x288 with 1 Axes>"
      ]
     },
     "metadata": {
      "needs_background": "light"
     },
     "output_type": "display_data"
    }
   ],
   "source": [
    "from sklearn.cluster import KMeans\n",
    "import numpy as np\n",
    "n_clusters = 3\n",
    "kmeans = KMeans(n_clusters=n_clusters, random_state=42, n_init=10).fit(reduced_data)\n",
    "labels = kmeans.labels_\n",
    "plt.scatter(reduced_data[:,0], reduced_data[:, 1], c=labels, cmap=\"Spectral\")\n",
    "plt.show()"
   ]
  },
  {
   "cell_type": "code",
   "execution_count": 23,
   "id": "30f4b2e2",
   "metadata": {},
   "outputs": [
    {
     "data": {
      "text/plain": [
       "137751.71875"
      ]
     },
     "execution_count": 23,
     "metadata": {},
     "output_type": "execute_result"
    }
   ],
   "source": [
    "kmeans.inertia_"
   ]
  },
  {
   "cell_type": "code",
   "execution_count": 33,
   "id": "43032ae9",
   "metadata": {},
   "outputs": [
    {
     "data": {
      "image/png": "[encoded data removed]",
      "text/plain": [
       "<Figure size 432x288 with 1 Axes>"
      ]
     },
     "metadata": {
      "needs_background": "light"
     },
     "output_type": "display_data"
    }
   ],
   "source": [
    "from sklearn.cluster import DBSCAN\n",
    "import numpy as np\n",
    "clustering = DBSCAN(eps=5, min_samples=2).fit(reduced_data)\n",
    "labels = clustering.labels_\n",
    "kmeans.inertia_\n",
    "plt.scatter(reduced_data[:,0], reduced_data[:, 1], c=labels, cmap=\"Spectral\")\n",
    "plt.show()"
   ]
  },
  {
   "cell_type": "code",
   "execution_count": 34,
   "id": "01cbf5c4",
   "metadata": {},
   "outputs": [
    {
     "data": {
      "text/plain": [
       "8.815137298018843"
      ]
     },
     "execution_count": 34,
     "metadata": {},
     "output_type": "execute_result"
    }
   ],
   "source": [
    "labels_set = set(labels)\n",
    "clusters = [[] for _ in range(len(labels_set))]\n",
    "for ind, row in enumerate(reduced_data):\n",
    "    cluster_ind = labels[ind]\n",
    "    clusters[cluster_ind].append(row)\n",
    "centers = [np.array(cluster).mean() for cluster in clusters]\n",
    "all_distance = []\n",
    "for center1 in centers:\n",
    "    for center2 in centers:\n",
    "        distance = np.abs(center2 - center1)\n",
    "        all_distance.append(distance)\n",
    "mean_distance = sum(all_distance) / len(all_distance)\n",
    "mean_distance"
   ]
  },
  {
   "cell_type": "code",
   "execution_count": null,
   "id": "af282ed7",
   "metadata": {},
   "outputs": [],
   "source": []
  }
 ],
 "metadata": {
  "kernelspec": {
   "display_name": "Python 3 (ipykernel)",
   "language": "python",
   "name": "python3"
  },
  "language_info": {
   "codemirror_mode": {
    "name": "ipython",
    "version": 3
   },
   "file_extension": ".py",
   "mimetype": "text/x-python",
   "name": "python",
   "nbconvert_exporter": "python",
   "pygments_lexer": "ipython3",
   "version": "3.9.12"
  }
 },
 "nbformat": 4,
 "nbformat_minor": 5
}
